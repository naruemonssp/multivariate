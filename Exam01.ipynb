{
  "nbformat": 4,
  "nbformat_minor": 0,
  "metadata": {
    "colab": {
      "name": "Exam01.ipynb",
      "provenance": [],
      "authorship_tag": "ABX9TyMsvhCwrkVi7xBTye5QT4G0",
      "include_colab_link": true
    },
    "kernelspec": {
      "name": "python3",
      "display_name": "Python 3"
    },
    "language_info": {
      "name": "python"
    }
  },
  "cells": [
    {
      "cell_type": "markdown",
      "metadata": {
        "id": "view-in-github",
        "colab_type": "text"
      },
      "source": [
        "<a href=\"https://colab.research.google.com/github/naruemonssp/multivariate/blob/main/Exam01.ipynb\" target=\"_parent\"><img src=\"https://colab.research.google.com/assets/colab-badge.svg\" alt=\"Open In Colab\"/></a>"
      ]
    },
    {
      "cell_type": "markdown",
      "metadata": {
        "id": "vF4CpDTDEMac"
      },
      "source": [
        "### นำข้อมูลเข้าและอ่านค่า pizza"
      ]
    },
    {
      "cell_type": "code",
      "metadata": {
        "id": "JpAzioz1CIcv"
      },
      "source": [
        "import pandas as pd"
      ],
      "execution_count": 1,
      "outputs": []
    },
    {
      "cell_type": "code",
      "metadata": {
        "colab": {
          "base_uri": "https://localhost:8080/"
        },
        "id": "nEdH3zYuGSFk",
        "outputId": "32799d97-338e-4b75-c45d-ad8fb38103b5"
      },
      "source": [
        "data = pd.read_csv('/content/Pizza.csv')\n",
        "data.head"
      ],
      "execution_count": 5,
      "outputs": [
        {
          "output_type": "execute_result",
          "data": {
            "text/plain": [
              "<bound method NDFrame.head of     brand     id   mois   prot    fat   ash  sodium   carb   cal\n",
              "0       A  14069  27.82  21.43  44.87  5.11    1.77   0.77  4.93\n",
              "1       A  14053  28.49  21.26  43.89  5.34    1.79   1.02  4.84\n",
              "2       A  14025  28.35  19.99  45.78  5.08    1.63   0.80  4.95\n",
              "3       A  14016  30.55  20.15  43.13  4.79    1.61   1.38  4.74\n",
              "4       A  14005  30.49  21.28  41.65  4.82    1.64   1.76  4.67\n",
              "..    ...    ...    ...    ...    ...   ...     ...    ...   ...\n",
              "295     J  34044  44.91  11.07  17.00  2.49    0.66  25.36  2.91\n",
              "296     J  24069  43.15  11.79  18.46  2.43    0.67  24.17  3.10\n",
              "297     J  34039  44.55  11.01  16.03  2.43    0.64  25.98  2.92\n",
              "298     J  14044  47.60  10.43  15.18  2.32    0.56  24.47  2.76\n",
              "299     J  14045  46.84   9.91  15.50  2.27    0.57  25.48  2.81\n",
              "\n",
              "[300 rows x 9 columns]>"
            ]
          },
          "metadata": {
            "tags": []
          },
          "execution_count": 5
        }
      ]
    },
    {
      "cell_type": "code",
      "metadata": {
        "colab": {
          "base_uri": "https://localhost:8080/",
          "height": 359
        },
        "id": "oRp4eKSzE4cc",
        "outputId": "7f098c3f-4e93-41b0-f2c0-f11a1c67a908"
      },
      "source": [
        "data = pd.read_csv('/content/Pizza.csv')\n",
        "data.head(10)   ### แสดงผลข้อมูล 10 ข้อมูล"
      ],
      "execution_count": 4,
      "outputs": [
        {
          "output_type": "execute_result",
          "data": {
            "text/html": [
              "<div>\n",
              "<style scoped>\n",
              "    .dataframe tbody tr th:only-of-type {\n",
              "        vertical-align: middle;\n",
              "    }\n",
              "\n",
              "    .dataframe tbody tr th {\n",
              "        vertical-align: top;\n",
              "    }\n",
              "\n",
              "    .dataframe thead th {\n",
              "        text-align: right;\n",
              "    }\n",
              "</style>\n",
              "<table border=\"1\" class=\"dataframe\">\n",
              "  <thead>\n",
              "    <tr style=\"text-align: right;\">\n",
              "      <th></th>\n",
              "      <th>brand</th>\n",
              "      <th>id</th>\n",
              "      <th>mois</th>\n",
              "      <th>prot</th>\n",
              "      <th>fat</th>\n",
              "      <th>ash</th>\n",
              "      <th>sodium</th>\n",
              "      <th>carb</th>\n",
              "      <th>cal</th>\n",
              "    </tr>\n",
              "  </thead>\n",
              "  <tbody>\n",
              "    <tr>\n",
              "      <th>0</th>\n",
              "      <td>A</td>\n",
              "      <td>14069</td>\n",
              "      <td>27.82</td>\n",
              "      <td>21.43</td>\n",
              "      <td>44.87</td>\n",
              "      <td>5.11</td>\n",
              "      <td>1.77</td>\n",
              "      <td>0.77</td>\n",
              "      <td>4.93</td>\n",
              "    </tr>\n",
              "    <tr>\n",
              "      <th>1</th>\n",
              "      <td>A</td>\n",
              "      <td>14053</td>\n",
              "      <td>28.49</td>\n",
              "      <td>21.26</td>\n",
              "      <td>43.89</td>\n",
              "      <td>5.34</td>\n",
              "      <td>1.79</td>\n",
              "      <td>1.02</td>\n",
              "      <td>4.84</td>\n",
              "    </tr>\n",
              "    <tr>\n",
              "      <th>2</th>\n",
              "      <td>A</td>\n",
              "      <td>14025</td>\n",
              "      <td>28.35</td>\n",
              "      <td>19.99</td>\n",
              "      <td>45.78</td>\n",
              "      <td>5.08</td>\n",
              "      <td>1.63</td>\n",
              "      <td>0.80</td>\n",
              "      <td>4.95</td>\n",
              "    </tr>\n",
              "    <tr>\n",
              "      <th>3</th>\n",
              "      <td>A</td>\n",
              "      <td>14016</td>\n",
              "      <td>30.55</td>\n",
              "      <td>20.15</td>\n",
              "      <td>43.13</td>\n",
              "      <td>4.79</td>\n",
              "      <td>1.61</td>\n",
              "      <td>1.38</td>\n",
              "      <td>4.74</td>\n",
              "    </tr>\n",
              "    <tr>\n",
              "      <th>4</th>\n",
              "      <td>A</td>\n",
              "      <td>14005</td>\n",
              "      <td>30.49</td>\n",
              "      <td>21.28</td>\n",
              "      <td>41.65</td>\n",
              "      <td>4.82</td>\n",
              "      <td>1.64</td>\n",
              "      <td>1.76</td>\n",
              "      <td>4.67</td>\n",
              "    </tr>\n",
              "    <tr>\n",
              "      <th>5</th>\n",
              "      <td>A</td>\n",
              "      <td>14075</td>\n",
              "      <td>31.14</td>\n",
              "      <td>20.23</td>\n",
              "      <td>42.31</td>\n",
              "      <td>4.92</td>\n",
              "      <td>1.65</td>\n",
              "      <td>1.40</td>\n",
              "      <td>4.67</td>\n",
              "    </tr>\n",
              "    <tr>\n",
              "      <th>6</th>\n",
              "      <td>A</td>\n",
              "      <td>14082</td>\n",
              "      <td>31.21</td>\n",
              "      <td>20.97</td>\n",
              "      <td>41.34</td>\n",
              "      <td>4.71</td>\n",
              "      <td>1.58</td>\n",
              "      <td>1.77</td>\n",
              "      <td>4.63</td>\n",
              "    </tr>\n",
              "    <tr>\n",
              "      <th>7</th>\n",
              "      <td>A</td>\n",
              "      <td>14097</td>\n",
              "      <td>28.76</td>\n",
              "      <td>21.41</td>\n",
              "      <td>41.60</td>\n",
              "      <td>5.28</td>\n",
              "      <td>1.75</td>\n",
              "      <td>2.95</td>\n",
              "      <td>4.72</td>\n",
              "    </tr>\n",
              "    <tr>\n",
              "      <th>8</th>\n",
              "      <td>A</td>\n",
              "      <td>14117</td>\n",
              "      <td>28.22</td>\n",
              "      <td>20.48</td>\n",
              "      <td>45.10</td>\n",
              "      <td>5.02</td>\n",
              "      <td>1.71</td>\n",
              "      <td>1.18</td>\n",
              "      <td>4.93</td>\n",
              "    </tr>\n",
              "    <tr>\n",
              "      <th>9</th>\n",
              "      <td>A</td>\n",
              "      <td>14133</td>\n",
              "      <td>27.72</td>\n",
              "      <td>21.19</td>\n",
              "      <td>45.29</td>\n",
              "      <td>5.16</td>\n",
              "      <td>1.66</td>\n",
              "      <td>0.64</td>\n",
              "      <td>4.95</td>\n",
              "    </tr>\n",
              "  </tbody>\n",
              "</table>\n",
              "</div>"
            ],
            "text/plain": [
              "  brand     id   mois   prot    fat   ash  sodium  carb   cal\n",
              "0     A  14069  27.82  21.43  44.87  5.11    1.77  0.77  4.93\n",
              "1     A  14053  28.49  21.26  43.89  5.34    1.79  1.02  4.84\n",
              "2     A  14025  28.35  19.99  45.78  5.08    1.63  0.80  4.95\n",
              "3     A  14016  30.55  20.15  43.13  4.79    1.61  1.38  4.74\n",
              "4     A  14005  30.49  21.28  41.65  4.82    1.64  1.76  4.67\n",
              "5     A  14075  31.14  20.23  42.31  4.92    1.65  1.40  4.67\n",
              "6     A  14082  31.21  20.97  41.34  4.71    1.58  1.77  4.63\n",
              "7     A  14097  28.76  21.41  41.60  5.28    1.75  2.95  4.72\n",
              "8     A  14117  28.22  20.48  45.10  5.02    1.71  1.18  4.93\n",
              "9     A  14133  27.72  21.19  45.29  5.16    1.66  0.64  4.95"
            ]
          },
          "metadata": {
            "tags": []
          },
          "execution_count": 4
        }
      ]
    },
    {
      "cell_type": "markdown",
      "metadata": {
        "id": "SFL31e-NHEM1"
      },
      "source": [
        "### ตรวจสอบขนาดข้อมูลว่ามี data กี่ตัว และมีกี่ dimensions"
      ]
    },
    {
      "cell_type": "code",
      "metadata": {
        "colab": {
          "base_uri": "https://localhost:8080/"
        },
        "id": "QYPWw4PnFJ7Y",
        "outputId": "20dedc63-5ad1-47ef-eec3-e83e321c4965"
      },
      "source": [
        "data.shape  ## มี 300 แถว, 9 คอลลัมน์"
      ],
      "execution_count": 8,
      "outputs": [
        {
          "output_type": "execute_result",
          "data": {
            "text/plain": [
              "(300, 9)"
            ]
          },
          "metadata": {
            "tags": []
          },
          "execution_count": 8
        }
      ]
    },
    {
      "cell_type": "markdown",
      "metadata": {
        "id": "cjf7XOgEJWTZ"
      },
      "source": [
        "### plot scatter เพื่อดูการกระจายของ data ในมุมมองต่างๆ"
      ]
    },
    {
      "cell_type": "code",
      "metadata": {
        "colab": {
          "base_uri": "https://localhost:8080/",
          "height": 1000
        },
        "id": "IagXTrZyJfyP",
        "outputId": "d28302e9-162f-475d-c91c-49c61ade20eb"
      },
      "source": [
        "pd.plotting.scatter_matrix(data)"
      ],
      "execution_count": 11,
      "outputs": [
        {
          "output_type": "execute_result",
          "data": {
            "text/plain": [
              "array([[<matplotlib.axes._subplots.AxesSubplot object at 0x7f43d46380d0>,\n",
              "        <matplotlib.axes._subplots.AxesSubplot object at 0x7f43d2ea8e10>,\n",
              "        <matplotlib.axes._subplots.AxesSubplot object at 0x7f43d2ec14d0>,\n",
              "        <matplotlib.axes._subplots.AxesSubplot object at 0x7f43d1652b50>,\n",
              "        <matplotlib.axes._subplots.AxesSubplot object at 0x7f43d160c210>,\n",
              "        <matplotlib.axes._subplots.AxesSubplot object at 0x7f43d1641850>,\n",
              "        <matplotlib.axes._subplots.AxesSubplot object at 0x7f43d15f6e50>,\n",
              "        <matplotlib.axes._subplots.AxesSubplot object at 0x7f43d15b8350>],\n",
              "       [<matplotlib.axes._subplots.AxesSubplot object at 0x7f43d15b8390>,\n",
              "        <matplotlib.axes._subplots.AxesSubplot object at 0x7f43d156ea10>,\n",
              "        <matplotlib.axes._subplots.AxesSubplot object at 0x7f43d14e8450>,\n",
              "        <matplotlib.axes._subplots.AxesSubplot object at 0x7f43d149c9d0>,\n",
              "        <matplotlib.axes._subplots.AxesSubplot object at 0x7f43d1452f50>,\n",
              "        <matplotlib.axes._subplots.AxesSubplot object at 0x7f43d1414510>,\n",
              "        <matplotlib.axes._subplots.AxesSubplot object at 0x7f43d13c8a90>,\n",
              "        <matplotlib.axes._subplots.AxesSubplot object at 0x7f43d1400fd0>],\n",
              "       [<matplotlib.axes._subplots.AxesSubplot object at 0x7f43d13c25d0>,\n",
              "        <matplotlib.axes._subplots.AxesSubplot object at 0x7f43d1376b50>,\n",
              "        <matplotlib.axes._subplots.AxesSubplot object at 0x7f43d1339110>,\n",
              "        <matplotlib.axes._subplots.AxesSubplot object at 0x7f43d12ed690>,\n",
              "        <matplotlib.axes._subplots.AxesSubplot object at 0x7f43d12a4c10>,\n",
              "        <matplotlib.axes._subplots.AxesSubplot object at 0x7f43d12661d0>,\n",
              "        <matplotlib.axes._subplots.AxesSubplot object at 0x7f43d121b750>,\n",
              "        <matplotlib.axes._subplots.AxesSubplot object at 0x7f43d11d1cd0>],\n",
              "       [<matplotlib.axes._subplots.AxesSubplot object at 0x7f43d1195290>,\n",
              "        <matplotlib.axes._subplots.AxesSubplot object at 0x7f43d114a810>,\n",
              "        <matplotlib.axes._subplots.AxesSubplot object at 0x7f43d117fd90>,\n",
              "        <matplotlib.axes._subplots.AxesSubplot object at 0x7f43d2e8d510>,\n",
              "        <matplotlib.axes._subplots.AxesSubplot object at 0x7f43d349f590>,\n",
              "        <matplotlib.axes._subplots.AxesSubplot object at 0x7f43d2efdb90>,\n",
              "        <matplotlib.axes._subplots.AxesSubplot object at 0x7f43d34515d0>,\n",
              "        <matplotlib.axes._subplots.AxesSubplot object at 0x7f43d33d47d0>],\n",
              "       [<matplotlib.axes._subplots.AxesSubplot object at 0x7f43d430a790>,\n",
              "        <matplotlib.axes._subplots.AxesSubplot object at 0x7f43d3364bd0>,\n",
              "        <matplotlib.axes._subplots.AxesSubplot object at 0x7f43d33ec2d0>,\n",
              "        <matplotlib.axes._subplots.AxesSubplot object at 0x7f43d423ded0>,\n",
              "        <matplotlib.axes._subplots.AxesSubplot object at 0x7f43d4638a50>,\n",
              "        <matplotlib.axes._subplots.AxesSubplot object at 0x7f43d37d6410>,\n",
              "        <matplotlib.axes._subplots.AxesSubplot object at 0x7f43d3459a90>,\n",
              "        <matplotlib.axes._subplots.AxesSubplot object at 0x7f43d36a9150>],\n",
              "       [<matplotlib.axes._subplots.AxesSubplot object at 0x7f43d37447d0>,\n",
              "        <matplotlib.axes._subplots.AxesSubplot object at 0x7f43d113ae50>,\n",
              "        <matplotlib.axes._subplots.AxesSubplot object at 0x7f43d34f1510>,\n",
              "        <matplotlib.axes._subplots.AxesSubplot object at 0x7f43d359ac50>,\n",
              "        <matplotlib.axes._subplots.AxesSubplot object at 0x7f43d363b250>,\n",
              "        <matplotlib.axes._subplots.AxesSubplot object at 0x7f43d360e8d0>,\n",
              "        <matplotlib.axes._subplots.AxesSubplot object at 0x7f43d3532f50>,\n",
              "        <matplotlib.axes._subplots.AxesSubplot object at 0x7f43d382f610>],\n",
              "       [<matplotlib.axes._subplots.AxesSubplot object at 0x7f43d461ec90>,\n",
              "        <matplotlib.axes._subplots.AxesSubplot object at 0x7f43d3e46910>,\n",
              "        <matplotlib.axes._subplots.AxesSubplot object at 0x7f43d42e89d0>,\n",
              "        <matplotlib.axes._subplots.AxesSubplot object at 0x7f43d42f7b90>,\n",
              "        <matplotlib.axes._subplots.AxesSubplot object at 0x7f43d3563710>,\n",
              "        <matplotlib.axes._subplots.AxesSubplot object at 0x7f43d3578d90>,\n",
              "        <matplotlib.axes._subplots.AxesSubplot object at 0x7f43d3eb8450>,\n",
              "        <matplotlib.axes._subplots.AxesSubplot object at 0x7f43d3e9cad0>],\n",
              "       [<matplotlib.axes._subplots.AxesSubplot object at 0x7f43d4203190>,\n",
              "        <matplotlib.axes._subplots.AxesSubplot object at 0x7f43d438c110>,\n",
              "        <matplotlib.axes._subplots.AxesSubplot object at 0x7f43d4366690>,\n",
              "        <matplotlib.axes._subplots.AxesSubplot object at 0x7f43d3973c10>,\n",
              "        <matplotlib.axes._subplots.AxesSubplot object at 0x7f43d39ae1d0>,\n",
              "        <matplotlib.axes._subplots.AxesSubplot object at 0x7f43d3b35750>,\n",
              "        <matplotlib.axes._subplots.AxesSubplot object at 0x7f43d3cb9cd0>,\n",
              "        <matplotlib.axes._subplots.AxesSubplot object at 0x7f43d3e7e290>]],\n",
              "      dtype=object)"
            ]
          },
          "metadata": {
            "tags": []
          },
          "execution_count": 11
        },
        {
          "output_type": "display_data",
          "data": {
            "image/png": "[encoded data removed]",
            "text/plain": [
              "<Figure size 432x288 with 64 Axes>"
            ]
          },
          "metadata": {
            "tags": [],
            "needs_background": "light"
          }
        }
      ]
    },
    {
      "cell_type": "code",
      "metadata": {
        "colab": {
          "base_uri": "https://localhost:8080/",
          "height": 294
        },
        "id": "IWSXf1mAIbjS",
        "outputId": "9f4a3908-bb31-495a-8492-3c25e001a51e"
      },
      "source": [
        "pd.plotting.scatter_matrix(data);"
      ],
      "execution_count": 10,
      "outputs": [
        {
          "output_type": "display_data",
          "data": {
            "image/png": "[encoded data removed]",
            "text/plain": [
              "<Figure size 432x288 with 64 Axes>"
            ]
          },
          "metadata": {
            "tags": [],
            "needs_background": "light"
          }
        }
      ]
    },
    {
      "cell_type": "markdown",
      "metadata": {
        "id": "xj-9Mr8oKyaq"
      },
      "source": [
        "### ทดสอบว่า colum ใด ให้ข้อมูลซ้ำกับ colum อื่น แล้วลบออก"
      ]
    },
    {
      "cell_type": "code",
      "metadata": {
        "colab": {
          "base_uri": "https://localhost:8080/",
          "height": 204
        },
        "id": "4hGvhB3dKyyE",
        "outputId": "07a208a4-5d3b-4ca7-d3fa-d32ff59884b3"
      },
      "source": [
        "newdata = data.iloc[:,2:]    ### เลือกเฉพาะข้อมูลที่เป็นตัวเลข\n",
        "newdata.head()    "
      ],
      "execution_count": 13,
      "outputs": [
        {
          "output_type": "execute_result",
          "data": {
            "text/html": [
              "<div>\n",
              "<style scoped>\n",
              "    .dataframe tbody tr th:only-of-type {\n",
              "        vertical-align: middle;\n",
              "    }\n",
              "\n",
              "    .dataframe tbody tr th {\n",
              "        vertical-align: top;\n",
              "    }\n",
              "\n",
              "    .dataframe thead th {\n",
              "        text-align: right;\n",
              "    }\n",
              "</style>\n",
              "<table border=\"1\" class=\"dataframe\">\n",
              "  <thead>\n",
              "    <tr style=\"text-align: right;\">\n",
              "      <th></th>\n",
              "      <th>mois</th>\n",
              "      <th>prot</th>\n",
              "      <th>fat</th>\n",
              "      <th>ash</th>\n",
              "      <th>sodium</th>\n",
              "      <th>carb</th>\n",
              "      <th>cal</th>\n",
              "    </tr>\n",
              "  </thead>\n",
              "  <tbody>\n",
              "    <tr>\n",
              "      <th>0</th>\n",
              "      <td>27.82</td>\n",
              "      <td>21.43</td>\n",
              "      <td>44.87</td>\n",
              "      <td>5.11</td>\n",
              "      <td>1.77</td>\n",
              "      <td>0.77</td>\n",
              "      <td>4.93</td>\n",
              "    </tr>\n",
              "    <tr>\n",
              "      <th>1</th>\n",
              "      <td>28.49</td>\n",
              "      <td>21.26</td>\n",
              "      <td>43.89</td>\n",
              "      <td>5.34</td>\n",
              "      <td>1.79</td>\n",
              "      <td>1.02</td>\n",
              "      <td>4.84</td>\n",
              "    </tr>\n",
              "    <tr>\n",
              "      <th>2</th>\n",
              "      <td>28.35</td>\n",
              "      <td>19.99</td>\n",
              "      <td>45.78</td>\n",
              "      <td>5.08</td>\n",
              "      <td>1.63</td>\n",
              "      <td>0.80</td>\n",
              "      <td>4.95</td>\n",
              "    </tr>\n",
              "    <tr>\n",
              "      <th>3</th>\n",
              "      <td>30.55</td>\n",
              "      <td>20.15</td>\n",
              "      <td>43.13</td>\n",
              "      <td>4.79</td>\n",
              "      <td>1.61</td>\n",
              "      <td>1.38</td>\n",
              "      <td>4.74</td>\n",
              "    </tr>\n",
              "    <tr>\n",
              "      <th>4</th>\n",
              "      <td>30.49</td>\n",
              "      <td>21.28</td>\n",
              "      <td>41.65</td>\n",
              "      <td>4.82</td>\n",
              "      <td>1.64</td>\n",
              "      <td>1.76</td>\n",
              "      <td>4.67</td>\n",
              "    </tr>\n",
              "  </tbody>\n",
              "</table>\n",
              "</div>"
            ],
            "text/plain": [
              "    mois   prot    fat   ash  sodium  carb   cal\n",
              "0  27.82  21.43  44.87  5.11    1.77  0.77  4.93\n",
              "1  28.49  21.26  43.89  5.34    1.79  1.02  4.84\n",
              "2  28.35  19.99  45.78  5.08    1.63  0.80  4.95\n",
              "3  30.55  20.15  43.13  4.79    1.61  1.38  4.74\n",
              "4  30.49  21.28  41.65  4.82    1.64  1.76  4.67"
            ]
          },
          "metadata": {
            "tags": []
          },
          "execution_count": 13
        }
      ]
    },
    {
      "cell_type": "markdown",
      "metadata": {
        "id": "wxM6GzgQQnZ9"
      },
      "source": [
        "### ใช้ numpy ตรวจสอบว่าระหว่าง Column มี Correlation กันมากน้อยแค่ไหน"
      ]
    },
    {
      "cell_type": "code",
      "metadata": {
        "id": "Hevtpdb-OmRe"
      },
      "source": [
        "import numpy as np"
      ],
      "execution_count": 14,
      "outputs": []
    },
    {
      "cell_type": "code",
      "metadata": {
        "colab": {
          "base_uri": "https://localhost:8080/"
        },
        "id": "l9sRUYTmOmL3",
        "outputId": "8a4f6665-e54d-42b4-f476-393fff5fb3f6"
      },
      "source": [
        "corr = np.corrcoef(newdata.to_numpy().T)\n",
        "corr"
      ],
      "execution_count": 20,
      "outputs": [
        {
          "output_type": "execute_result",
          "data": {
            "text/plain": [
              "array([[ 1.        ,  0.36024768, -0.17131821,  0.26555552, -0.1022789 ,\n",
              "        -0.59180165, -0.76444054],\n",
              "       [ 0.36024768,  1.        ,  0.49800167,  0.8238437 ,  0.42912952,\n",
              "        -0.85354226,  0.0702581 ],\n",
              "       [-0.17131821,  0.49800167,  1.        ,  0.79163396,  0.93332522,\n",
              "        -0.64023817,  0.7645671 ],\n",
              "       [ 0.26555552,  0.8238437 ,  0.79163396,  1.        ,  0.80812215,\n",
              "        -0.89898837,  0.32646845],\n",
              "       [-0.1022789 ,  0.42912952,  0.93332522,  0.80812215,  1.        ,\n",
              "        -0.62017634,  0.6719575 ],\n",
              "       [-0.59180165, -0.85354226, -0.64023817, -0.89898837, -0.62017634,\n",
              "         1.        , -0.02348458],\n",
              "       [-0.76444054,  0.0702581 ,  0.7645671 ,  0.32646845,  0.6719575 ,\n",
              "        -0.02348458,  1.        ]])"
            ]
          },
          "metadata": {
            "tags": []
          },
          "execution_count": 20
        }
      ]
    },
    {
      "cell_type": "code",
      "metadata": {
        "colab": {
          "base_uri": "https://localhost:8080/"
        },
        "id": "6MpmJHq8RV-p",
        "outputId": "69e1539f-64c7-4998-88d7-4eb5167b7d4d"
      },
      "source": [
        "corr.shape"
      ],
      "execution_count": 21,
      "outputs": [
        {
          "output_type": "execute_result",
          "data": {
            "text/plain": [
              "(7, 7)"
            ]
          },
          "metadata": {
            "tags": []
          },
          "execution_count": 21
        }
      ]
    },
    {
      "cell_type": "code",
      "metadata": {
        "id": "RZIJBGwoRksX"
      },
      "source": [
        "for i in range(corr.shape[0]):\n",
        "        for j in range(corr.shape[1]):\n",
        "            if (i !=j )  and (corr[i,j] == 1.):\n",
        "                print(f'row = {i} column = {j} corrcoef = {corr[i,j]}')  ### มีค่าไม่ซ้ำกัน"
      ],
      "execution_count": 26,
      "outputs": []
    },
    {
      "cell_type": "markdown",
      "metadata": {
        "id": "uKSQ_puqSRJM"
      },
      "source": [
        "### plot กราฟ parallel corrdinate"
      ]
    },
    {
      "cell_type": "code",
      "metadata": {
        "id": "FpHiQ1_eVAyL"
      },
      "source": [
        "from matplotlib import pyplot as plt"
      ],
      "execution_count": 34,
      "outputs": []
    },
    {
      "cell_type": "code",
      "metadata": {
        "colab": {
          "base_uri": "https://localhost:8080/",
          "height": 282
        },
        "id": "87TmwY8nRvn0",
        "outputId": "ab0c0722-754f-4291-c06b-c012c485410a"
      },
      "source": [
        "pd.plotting.parallel_coordinates(data,'brand') "
      ],
      "execution_count": 35,
      "outputs": [
        {
          "output_type": "execute_result",
          "data": {
            "text/plain": [
              "<matplotlib.axes._subplots.AxesSubplot at 0x7f43d45d3c50>"
            ]
          },
          "metadata": {
            "tags": []
          },
          "execution_count": 35
        },
        {
          "output_type": "display_data",
          "data": {
            "image/png": "[encoded data removed]",
            "text/plain": [
              "<Figure size 432x288 with 1 Axes>"
            ]
          },
          "metadata": {
            "tags": [],
            "needs_background": "light"
          }
        }
      ]
    },
    {
      "cell_type": "code",
      "metadata": {
        "colab": {
          "base_uri": "https://localhost:8080/",
          "height": 419
        },
        "id": "n9s4eodLSthV",
        "outputId": "bff67103-bb9e-4cf4-b190-039be072d401"
      },
      "source": [
        "data_dropped = data.drop(['brand','id'], axis=1)    ### เอารายการที่เป็นรายชื่อออก\n",
        "data_dropped"
      ],
      "execution_count": 37,
      "outputs": [
        {
          "output_type": "execute_result",
          "data": {
            "text/html": [
              "<div>\n",
              "<style scoped>\n",
              "    .dataframe tbody tr th:only-of-type {\n",
              "        vertical-align: middle;\n",
              "    }\n",
              "\n",
              "    .dataframe tbody tr th {\n",
              "        vertical-align: top;\n",
              "    }\n",
              "\n",
              "    .dataframe thead th {\n",
              "        text-align: right;\n",
              "    }\n",
              "</style>\n",
              "<table border=\"1\" class=\"dataframe\">\n",
              "  <thead>\n",
              "    <tr style=\"text-align: right;\">\n",
              "      <th></th>\n",
              "      <th>mois</th>\n",
              "      <th>prot</th>\n",
              "      <th>fat</th>\n",
              "      <th>ash</th>\n",
              "      <th>sodium</th>\n",
              "      <th>carb</th>\n",
              "      <th>cal</th>\n",
              "    </tr>\n",
              "  </thead>\n",
              "  <tbody>\n",
              "    <tr>\n",
              "      <th>0</th>\n",
              "      <td>27.82</td>\n",
              "      <td>21.43</td>\n",
              "      <td>44.87</td>\n",
              "      <td>5.11</td>\n",
              "      <td>1.77</td>\n",
              "      <td>0.77</td>\n",
              "      <td>4.93</td>\n",
              "    </tr>\n",
              "    <tr>\n",
              "      <th>1</th>\n",
              "      <td>28.49</td>\n",
              "      <td>21.26</td>\n",
              "      <td>43.89</td>\n",
              "      <td>5.34</td>\n",
              "      <td>1.79</td>\n",
              "      <td>1.02</td>\n",
              "      <td>4.84</td>\n",
              "    </tr>\n",
              "    <tr>\n",
              "      <th>2</th>\n",
              "      <td>28.35</td>\n",
              "      <td>19.99</td>\n",
              "      <td>45.78</td>\n",
              "      <td>5.08</td>\n",
              "      <td>1.63</td>\n",
              "      <td>0.80</td>\n",
              "      <td>4.95</td>\n",
              "    </tr>\n",
              "    <tr>\n",
              "      <th>3</th>\n",
              "      <td>30.55</td>\n",
              "      <td>20.15</td>\n",
              "      <td>43.13</td>\n",
              "      <td>4.79</td>\n",
              "      <td>1.61</td>\n",
              "      <td>1.38</td>\n",
              "      <td>4.74</td>\n",
              "    </tr>\n",
              "    <tr>\n",
              "      <th>4</th>\n",
              "      <td>30.49</td>\n",
              "      <td>21.28</td>\n",
              "      <td>41.65</td>\n",
              "      <td>4.82</td>\n",
              "      <td>1.64</td>\n",
              "      <td>1.76</td>\n",
              "      <td>4.67</td>\n",
              "    </tr>\n",
              "    <tr>\n",
              "      <th>...</th>\n",
              "      <td>...</td>\n",
              "      <td>...</td>\n",
              "      <td>...</td>\n",
              "      <td>...</td>\n",
              "      <td>...</td>\n",
              "      <td>...</td>\n",
              "      <td>...</td>\n",
              "    </tr>\n",
              "    <tr>\n",
              "      <th>295</th>\n",
              "      <td>44.91</td>\n",
              "      <td>11.07</td>\n",
              "      <td>17.00</td>\n",
              "      <td>2.49</td>\n",
              "      <td>0.66</td>\n",
              "      <td>25.36</td>\n",
              "      <td>2.91</td>\n",
              "    </tr>\n",
              "    <tr>\n",
              "      <th>296</th>\n",
              "      <td>43.15</td>\n",
              "      <td>11.79</td>\n",
              "      <td>18.46</td>\n",
              "      <td>2.43</td>\n",
              "      <td>0.67</td>\n",
              "      <td>24.17</td>\n",
              "      <td>3.10</td>\n",
              "    </tr>\n",
              "    <tr>\n",
              "      <th>297</th>\n",
              "      <td>44.55</td>\n",
              "      <td>11.01</td>\n",
              "      <td>16.03</td>\n",
              "      <td>2.43</td>\n",
              "      <td>0.64</td>\n",
              "      <td>25.98</td>\n",
              "      <td>2.92</td>\n",
              "    </tr>\n",
              "    <tr>\n",
              "      <th>298</th>\n",
              "      <td>47.60</td>\n",
              "      <td>10.43</td>\n",
              "      <td>15.18</td>\n",
              "      <td>2.32</td>\n",
              "      <td>0.56</td>\n",
              "      <td>24.47</td>\n",
              "      <td>2.76</td>\n",
              "    </tr>\n",
              "    <tr>\n",
              "      <th>299</th>\n",
              "      <td>46.84</td>\n",
              "      <td>9.91</td>\n",
              "      <td>15.50</td>\n",
              "      <td>2.27</td>\n",
              "      <td>0.57</td>\n",
              "      <td>25.48</td>\n",
              "      <td>2.81</td>\n",
              "    </tr>\n",
              "  </tbody>\n",
              "</table>\n",
              "<p>300 rows × 7 columns</p>\n",
              "</div>"
            ],
            "text/plain": [
              "      mois   prot    fat   ash  sodium   carb   cal\n",
              "0    27.82  21.43  44.87  5.11    1.77   0.77  4.93\n",
              "1    28.49  21.26  43.89  5.34    1.79   1.02  4.84\n",
              "2    28.35  19.99  45.78  5.08    1.63   0.80  4.95\n",
              "3    30.55  20.15  43.13  4.79    1.61   1.38  4.74\n",
              "4    30.49  21.28  41.65  4.82    1.64   1.76  4.67\n",
              "..     ...    ...    ...   ...     ...    ...   ...\n",
              "295  44.91  11.07  17.00  2.49    0.66  25.36  2.91\n",
              "296  43.15  11.79  18.46  2.43    0.67  24.17  3.10\n",
              "297  44.55  11.01  16.03  2.43    0.64  25.98  2.92\n",
              "298  47.60  10.43  15.18  2.32    0.56  24.47  2.76\n",
              "299  46.84   9.91  15.50  2.27    0.57  25.48  2.81\n",
              "\n",
              "[300 rows x 7 columns]"
            ]
          },
          "metadata": {
            "tags": []
          },
          "execution_count": 37
        }
      ]
    },
    {
      "cell_type": "markdown",
      "metadata": {
        "id": "wdnEpyuMUMNJ"
      },
      "source": [
        "### plot กราฟ parallel coordinate\n"
      ]
    },
    {
      "cell_type": "code",
      "metadata": {
        "colab": {
          "base_uri": "https://localhost:8080/",
          "height": 286
        },
        "id": "ggxUj1w-Ul84",
        "outputId": "189d26ae-f6b2-43bd-b891-9a46ba3ee44c"
      },
      "source": [
        "pd.plotting.parallel_coordinates(data_dropped,'brand')"
      ],
      "execution_count": 41,
      "outputs": [
        {
          "output_type": "execute_result",
          "data": {
            "text/plain": [
              "<matplotlib.axes._subplots.AxesSubplot at 0x7f43c8104bd0>"
            ]
          },
          "metadata": {
            "tags": []
          },
          "execution_count": 41
        },
        {
          "output_type": "display_data",
          "data": {
            "image/png": "[encoded data removed]",
            "text/plain": [
              "<Figure size 432x288 with 1 Axes>"
            ]
          },
          "metadata": {
            "tags": [],
            "needs_background": "light"
          }
        }
      ]
    },
    {
      "cell_type": "markdown",
      "metadata": {
        "id": "td3YOkPdWW_x"
      },
      "source": [
        "## ทำ PCA เพื่อลดจำนวน dimension ของข้อมูล\n"
      ]
    },
    {
      "cell_type": "code",
      "metadata": {
        "id": "4LCcSUqAVRpl"
      },
      "source": [
        "from sklearn.decomposition import PCA"
      ],
      "execution_count": 42,
      "outputs": []
    },
    {
      "cell_type": "code",
      "metadata": {
        "id": "Ec8CzPDzWrSM"
      },
      "source": [
        "pca = PCA(n_components=2) "
      ],
      "execution_count": 43,
      "outputs": []
    },
    {
      "cell_type": "code",
      "metadata": {
        "id": "VeJtWYVkWvwx"
      },
      "source": [
        "new_pca = pca.fit_transform(data_dropped2.to_numpy())"
      ],
      "execution_count": 45,
      "outputs": []
    },
    {
      "cell_type": "code",
      "metadata": {
        "colab": {
          "base_uri": "https://localhost:8080/"
        },
        "id": "FY4J5QjVXu1j",
        "outputId": "361c4064-de3b-4fa5-af02-0f0b736e5ad1"
      },
      "source": [
        "new_pca"
      ],
      "execution_count": 46,
      "outputs": [
        {
          "output_type": "execute_result",
          "data": {
            "text/plain": [
              "array([[-2.49517479e+01,  2.68116678e+01],\n",
              "       [-2.46119758e+01,  2.56595634e+01],\n",
              "       [-2.49384190e+01,  2.69305710e+01],\n",
              "       [-2.43255609e+01,  2.35235671e+01],\n",
              "       [-2.38660483e+01,  2.26528128e+01],\n",
              "       [-2.42716473e+01,  2.25496261e+01],\n",
              "       [-2.38806695e+01,  2.18852969e+01],\n",
              "       [-2.23894923e+01,  2.39358506e+01],\n",
              "       [-2.45074215e+01,  2.66033180e+01],\n",
              "       [-2.50928469e+01,  2.71508163e+01],\n",
              "       [-2.48185674e+01,  2.76159021e+01],\n",
              "       [-2.39395254e+01,  2.75274080e+01],\n",
              "       [-2.44496724e+01,  2.62221990e+01],\n",
              "       [-2.28480039e+01,  2.27702098e+01],\n",
              "       [-2.42812192e+01,  2.25656557e+01],\n",
              "       [-2.38786302e+01,  2.39995991e+01],\n",
              "       [-2.32390338e+01,  1.96576785e+01],\n",
              "       [-2.36081213e+01,  1.88694931e+01],\n",
              "       [-2.34833228e+01,  2.08403006e+01],\n",
              "       [-2.30861647e+01,  2.25687679e+01],\n",
              "       [-2.44317537e+01,  2.88343106e+01],\n",
              "       [-2.39812139e+01,  2.72251577e+01],\n",
              "       [-2.43513670e+01,  2.27327854e+01],\n",
              "       [-2.53764539e+01,  2.24254699e+01],\n",
              "       [-2.39263676e+01,  2.06186152e+01],\n",
              "       [-2.50106762e+01,  2.43045929e+01],\n",
              "       [-2.46570853e+01,  2.60988032e+01],\n",
              "       [-2.35755404e+01,  2.41153607e+01],\n",
              "       [-2.48604556e+01,  2.44476323e+01],\n",
              "       [-2.15427319e+01, -4.58711332e-01],\n",
              "       [-2.16994084e+01, -4.98326537e+00],\n",
              "       [-2.11494557e+01,  1.14763399e+00],\n",
              "       [-2.15065300e+01, -1.37353875e+00],\n",
              "       [-2.06383104e+01, -2.24960085e+00],\n",
              "       [-2.16835903e+01, -7.11650812e-01],\n",
              "       [-2.29070952e+01, -8.23020789e-01],\n",
              "       [-2.20965019e+01, -8.98589812e-01],\n",
              "       [-2.13622949e+01, -6.41579208e+00],\n",
              "       [-2.02991102e+01, -4.91523942e+00],\n",
              "       [-2.27382626e+01, -8.99446902e-01],\n",
              "       [-2.20054774e+01, -2.17274524e-01],\n",
              "       [-2.18165714e+01, -2.72070101e+00],\n",
              "       [-2.10334435e+01, -7.45482124e-01],\n",
              "       [-2.09710361e+01, -8.51120732e+00],\n",
              "       [-2.06744794e+01, -9.30845806e+00],\n",
              "       [-2.19920631e+01, -6.59486373e+00],\n",
              "       [-2.18636272e+01,  4.30319256e-02],\n",
              "       [-2.19275374e+01, -1.47863134e+00],\n",
              "       [-2.02119041e+01, -5.56179139e+00],\n",
              "       [-2.12515310e+01, -9.30383142e-01],\n",
              "       [-2.12776748e+01, -2.80321109e-01],\n",
              "       [-2.08921540e+01, -7.40738319e-02],\n",
              "       [-2.16454505e+01, -2.36582465e+00],\n",
              "       [-2.18133895e+01, -2.53445151e+00],\n",
              "       [-2.17334976e+01, -6.62838699e+00],\n",
              "       [-2.21495715e+01, -3.79890331e+00],\n",
              "       [-2.27887430e+01, -2.93896235e+00],\n",
              "       [-2.29033020e+01, -2.43458458e+00],\n",
              "       [-2.26076889e+01, -2.40000860e+00],\n",
              "       [-2.21228053e+01, -2.60295863e+00],\n",
              "       [-2.52831501e+01, -3.96111505e+00],\n",
              "       [-2.38208485e+01, -6.71325777e+00],\n",
              "       [-2.41028402e+01, -4.72030481e+00],\n",
              "       [-2.30455579e+01, -5.82329294e+00],\n",
              "       [-2.52900220e+01, -3.12179790e+00],\n",
              "       [-2.38503842e+01, -5.96363596e+00],\n",
              "       [-2.34518040e+01, -8.88861037e+00],\n",
              "       [-2.41113523e+01, -5.45904687e+00],\n",
              "       [-2.26933799e+01, -7.89663280e+00],\n",
              "       [-2.35713650e+01, -9.64076108e+00],\n",
              "       [-2.24336973e+01, -1.12349358e+01],\n",
              "       [-2.34636092e+01, -5.65309670e+00],\n",
              "       [-2.51094288e+01, -3.49078996e+00],\n",
              "       [-2.35533885e+01, -3.96387639e+00],\n",
              "       [-2.34118326e+01, -3.84107168e+00],\n",
              "       [-2.34190927e+01, -4.82055154e+00],\n",
              "       [-2.28553284e+01, -6.41093204e+00],\n",
              "       [-2.47785653e+01, -9.92209771e+00],\n",
              "       [-2.37283954e+01, -3.07299882e+00],\n",
              "       [-2.47433307e+01, -4.91008035e+00],\n",
              "       [-2.46436976e+01, -1.00722863e+01],\n",
              "       [-2.25360842e+01, -7.10416016e+00],\n",
              "       [-2.26183107e+01, -9.31429119e+00],\n",
              "       [-2.28856967e+01, -7.20082053e+00],\n",
              "       [-2.48651158e+01, -1.33941873e+00],\n",
              "       [-2.26661030e+01, -9.16349859e+00],\n",
              "       [-2.48783178e+01, -5.29530358e+00],\n",
              "       [-2.31079895e+01, -5.10485593e-01],\n",
              "       [-2.35082835e+01,  6.33380366e-01],\n",
              "       [-2.00800760e+01, -3.76281790e+00],\n",
              "       [-1.87458983e+01, -4.76559649e+00],\n",
              "       [-1.89998951e+01, -3.24065285e+00],\n",
              "       [-2.21799088e+01, -1.57729768e+00],\n",
              "       [-1.91829329e+01, -3.90545327e+00],\n",
              "       [-2.01146223e+01, -4.25885928e+00],\n",
              "       [-2.37170103e+01, -7.02440213e+00],\n",
              "       [-2.00415803e+01, -3.31496586e+00],\n",
              "       [-1.96565023e+01, -3.19866950e+00],\n",
              "       [-1.93274945e+01, -3.49954643e+00],\n",
              "       [-1.87067589e+01, -5.01537402e+00],\n",
              "       [-2.29182544e+01, -3.72643344e+00],\n",
              "       [-2.19532100e+01, -3.60880783e+00],\n",
              "       [-2.27898665e+01, -4.34069645e+00],\n",
              "       [-1.98322476e+01, -3.71203244e+00],\n",
              "       [-1.91128809e+01, -4.29155826e+00],\n",
              "       [-1.99007584e+01, -4.47435699e+00],\n",
              "       [-1.95349528e+01, -4.17086657e+00],\n",
              "       [-2.00556457e+01, -3.74031088e+00],\n",
              "       [-1.97400269e+01, -4.38987751e+00],\n",
              "       [-1.96313486e+01, -5.32949202e+00],\n",
              "       [-2.26815705e+01, -3.76317673e-02],\n",
              "       [-1.90831022e+01, -6.27342413e+00],\n",
              "       [-2.46156239e+01, -4.07512113e+00],\n",
              "       [-1.97634588e+01, -4.47499150e+00],\n",
              "       [-2.33758539e+01,  8.06297287e-02],\n",
              "       [-2.40661046e+01,  4.49967471e-01],\n",
              "       [-2.36976363e+01, -3.58879261e-01],\n",
              "       [-2.26287062e+01, -5.82446164e-01],\n",
              "       [-2.47785653e+01, -9.92209771e+00],\n",
              "       [ 1.99481441e+01,  1.59514814e+00],\n",
              "       [ 1.59434603e+01,  4.94501871e-01],\n",
              "       [ 1.90811110e+01,  9.07102074e-01],\n",
              "       [ 2.65829310e+01, -9.66255845e+00],\n",
              "       [ 2.11561749e+01,  7.57411647e-01],\n",
              "       [ 2.66220343e+01, -9.96914472e+00],\n",
              "       [ 2.20355065e+01, -3.62962774e-01],\n",
              "       [ 1.33087600e+01, -1.77286876e+00],\n",
              "       [ 1.86547353e+01,  3.59721464e-02],\n",
              "       [ 1.78762857e+01, -2.15690211e-01],\n",
              "       [ 1.86491618e+01, -2.84049815e+00],\n",
              "       [ 2.11921274e+01, -4.98805474e-01],\n",
              "       [ 1.64727350e+01,  3.58476234e+00],\n",
              "       [ 1.75301924e+01,  4.81492970e+00],\n",
              "       [ 1.27156016e+01,  1.80270578e+00],\n",
              "       [ 1.88755214e+01, -2.37918283e+00],\n",
              "       [ 2.18249519e+01, -2.33932681e+00],\n",
              "       [ 1.27156016e+01,  1.80270578e+00],\n",
              "       [ 2.14675298e+01,  7.03462040e-01],\n",
              "       [ 1.86588952e+01, -9.22961439e-01],\n",
              "       [ 1.77498614e+01,  3.02387282e+00],\n",
              "       [ 1.70281510e+01,  1.84614166e+00],\n",
              "       [ 1.53354309e+01,  3.62580359e+00],\n",
              "       [ 1.74688373e+01,  4.45087434e+00],\n",
              "       [ 1.67202617e+01,  3.16527164e+00],\n",
              "       [ 2.58547126e+01, -5.80679394e+00],\n",
              "       [ 1.86491618e+01, -2.84049815e+00],\n",
              "       [ 2.24906804e+01,  1.40536877e-01],\n",
              "       [ 2.45789577e+01,  7.92085208e+00],\n",
              "       [ 2.56130209e+01,  4.25207201e+00],\n",
              "       [ 2.66628565e+01,  3.94552725e+00],\n",
              "       [ 1.95600799e+01,  7.75967776e+00],\n",
              "       [ 2.35801170e+01,  7.92437315e+00],\n",
              "       [ 2.56045676e+01,  3.88601257e+00],\n",
              "       [ 2.65675830e+01,  5.93126207e+00],\n",
              "       [ 2.62275622e+01,  2.46382094e+00],\n",
              "       [ 2.64451465e+01,  4.06319169e+00],\n",
              "       [ 2.46954035e+01,  4.67950353e+00],\n",
              "       [ 2.09161164e+01,  7.10522130e+00],\n",
              "       [ 2.66168619e+01,  4.59166933e+00],\n",
              "       [ 2.19514976e+01,  7.92196640e+00],\n",
              "       [ 2.59918395e+01,  4.34373584e+00],\n",
              "       [ 2.65923141e+01,  7.46920818e+00],\n",
              "       [ 2.46477927e+01,  7.41512302e+00],\n",
              "       [ 2.10165990e+01,  8.25609343e+00],\n",
              "       [ 2.68488103e+01,  3.90349027e+00],\n",
              "       [ 2.55565295e+01,  7.41979934e+00],\n",
              "       [ 2.61880449e+01,  3.26711635e+00],\n",
              "       [ 2.72927038e+01,  2.32991066e+00],\n",
              "       [ 2.88164899e+01,  2.25704367e+00],\n",
              "       [ 2.51541622e+01,  5.62642882e+00],\n",
              "       [ 2.56923960e+01,  4.90064390e+00],\n",
              "       [ 2.42786807e+01,  6.78525671e+00],\n",
              "       [ 2.54614530e+01,  6.06731834e+00],\n",
              "       [ 2.48483698e+01,  6.53988541e+00],\n",
              "       [ 2.42143238e+01,  7.76288400e+00],\n",
              "       [ 2.32657128e+01,  8.27045521e+00],\n",
              "       [ 2.58324044e+01,  2.95980401e+00],\n",
              "       [ 2.72904281e+01,  5.89836060e+00],\n",
              "       [ 2.77511555e+01,  5.37945467e+00],\n",
              "       [ 2.64607510e+01,  2.69109388e+00],\n",
              "       [ 2.76618664e+01,  5.55752413e+00],\n",
              "       [ 2.11280598e+01,  8.49779725e+00],\n",
              "       [ 2.59589518e+01,  6.62604426e+00],\n",
              "       [ 2.58807438e+01,  5.92310689e+00],\n",
              "       [ 2.74321134e+01,  6.34829988e+00],\n",
              "       [ 2.63218220e+01,  6.62133634e+00],\n",
              "       [ 2.63220236e+01,  6.41482116e+00],\n",
              "       [ 2.86944621e+01,  5.02933673e+00],\n",
              "       [ 2.80211216e+01,  5.04358533e+00],\n",
              "       [ 2.67429946e+01,  5.41397759e+00],\n",
              "       [ 2.59450912e+01, -5.17697061e-02],\n",
              "       [ 2.43614777e+01,  1.02633640e+01],\n",
              "       [ 2.81478309e+01,  6.38914601e+00],\n",
              "       [ 2.88371800e+01,  5.80554237e+00],\n",
              "       [ 2.81653643e+01,  6.12997705e+00],\n",
              "       [ 2.22926210e+01,  5.30917771e+00],\n",
              "       [ 2.74586449e+01,  4.35169619e+00],\n",
              "       [ 2.45994139e+01,  6.84121901e+00],\n",
              "       [ 2.89241858e+01,  6.13957166e+00],\n",
              "       [ 2.92079202e+01,  4.55456946e+00],\n",
              "       [ 2.74131983e+01,  8.72801100e+00],\n",
              "       [ 2.68308678e+01,  8.81608479e+00],\n",
              "       [ 2.80645076e+01,  6.02691510e+00],\n",
              "       [ 2.89504722e+01,  9.20487570e+00],\n",
              "       [ 2.94926896e+01,  3.04570205e+00],\n",
              "       [ 2.62981837e+01,  5.90229279e+00],\n",
              "       [ 2.20692432e+01, -2.38636037e+00],\n",
              "       [ 1.53391718e+01,  3.13893896e+00],\n",
              "       [ 1.95834178e+01,  3.77327265e-01],\n",
              "       [ 2.82614594e+01, -5.77484131e+00],\n",
              "       [ 1.80916813e+01,  8.13848226e-01],\n",
              "       [ 1.78954439e+01,  8.93355351e-01],\n",
              "       [ 2.47741516e+01, -1.04351853e+01],\n",
              "       [ 1.83603090e+01,  9.93502377e-01],\n",
              "       [ 2.23337401e+01,  2.41971473e+00],\n",
              "       [ 2.17010737e+01,  1.37604718e+00],\n",
              "       [ 2.73855614e+01, -9.41328412e+00],\n",
              "       [ 1.85752746e+01,  3.94837701e+00],\n",
              "       [ 1.77426304e+01, -4.95254191e-01],\n",
              "       [ 2.05094339e+01, -7.49758003e-01],\n",
              "       [ 2.06803514e+01, -2.30329006e+00],\n",
              "       [ 2.13094007e+01, -9.07208485e-01],\n",
              "       [ 1.87792866e+01, -1.18992289e+00],\n",
              "       [ 1.94081562e+01,  5.14077191e-01],\n",
              "       [ 2.08389764e+01,  1.85291352e+00],\n",
              "       [ 2.04907808e+01, -7.23875048e-01],\n",
              "       [ 2.03222198e+01, -5.50393018e-01],\n",
              "       [ 1.51904146e+01,  2.67302346e+00],\n",
              "       [ 1.69137748e+01,  8.42714610e-01],\n",
              "       [ 2.10531662e+01, -6.62343230e-01],\n",
              "       [ 1.78384367e+01,  7.39254013e-01],\n",
              "       [ 1.86828140e+01,  1.25133247e-01],\n",
              "       [ 1.53969040e+01,  1.27247262e+00],\n",
              "       [ 1.98579118e+01, -3.52668838e-01],\n",
              "       [ 2.14717817e+01, -2.12644536e+00],\n",
              "       [ 1.83436509e+01,  2.65028891e+00],\n",
              "       [ 2.47855116e+01, -4.52574155e+00],\n",
              "       [ 2.08097383e+01, -1.20452197e+00],\n",
              "       [ 2.03222198e+01, -5.50393018e-01],\n",
              "       [-3.53069709e+00, -1.53142158e+01],\n",
              "       [-3.40364270e+00, -1.48251043e+01],\n",
              "       [-2.50025861e+00, -1.46291890e+01],\n",
              "       [-4.66639518e+00, -1.42995090e+01],\n",
              "       [-2.83778203e+00, -1.30671706e+01],\n",
              "       [-2.81553941e+00, -1.66051382e+01],\n",
              "       [-2.00840025e+00, -1.75322885e+01],\n",
              "       [-5.16396262e+00, -1.63234142e+01],\n",
              "       [-1.56097414e+00, -1.56816580e+01],\n",
              "       [-5.91129421e+00, -1.30040679e+01],\n",
              "       [-4.50428016e+00, -1.47704132e+01],\n",
              "       [-3.80768643e+00, -1.35393013e+01],\n",
              "       [-4.31173696e+00, -1.59126907e+01],\n",
              "       [-5.03492900e+00, -1.49581014e+01],\n",
              "       [-3.91843834e+00, -1.62444362e+01],\n",
              "       [-4.82347451e+00, -1.54125061e+01],\n",
              "       [-2.49137306e+00, -1.54043907e+01],\n",
              "       [-2.96397114e+00, -1.56011692e+01],\n",
              "       [-2.39949081e+00, -1.54265453e+01],\n",
              "       [-1.84828516e+00, -1.38293610e+01],\n",
              "       [-4.69132546e+00, -1.49056254e+01],\n",
              "       [-4.61987423e+00, -1.43755824e+01],\n",
              "       [-3.73947183e+00, -1.50231570e+01],\n",
              "       [-3.80822725e+00, -1.44455203e+01],\n",
              "       [-3.30510628e+00, -1.85784367e+01],\n",
              "       [-4.44750611e+00, -1.50722915e+01],\n",
              "       [-3.00954677e+00, -1.47472593e+01],\n",
              "       [-2.54397466e+00, -1.45732226e+01],\n",
              "       [-3.58761278e+00, -1.58224815e+01],\n",
              "       [ 2.28213021e+00, -6.83226258e+00],\n",
              "       [ 3.89121211e+00, -4.80743187e+00],\n",
              "       [ 1.76785995e+00, -8.54653637e+00],\n",
              "       [ 2.91739830e+00, -7.80284611e+00],\n",
              "       [ 3.34922722e+00, -6.94623812e+00],\n",
              "       [ 2.56407945e+00, -9.15847496e+00],\n",
              "       [ 1.50073260e+00, -5.98582131e+00],\n",
              "       [ 9.06496263e-01, -6.72092307e+00],\n",
              "       [ 7.23721702e-01, -6.05875206e+00],\n",
              "       [ 4.60974207e-01, -8.76160938e+00],\n",
              "       [ 1.74955895e+00, -6.02640971e+00],\n",
              "       [ 4.31626850e+00, -8.21891254e+00],\n",
              "       [ 3.85449031e-01, -7.53518574e+00],\n",
              "       [ 1.40282905e+00, -6.96027578e+00],\n",
              "       [ 2.76418857e+00, -5.94148287e+00],\n",
              "       [ 2.37235205e+00, -8.14673363e+00],\n",
              "       [ 9.60516466e-01, -2.55086309e+00],\n",
              "       [ 3.58439103e-01, -7.89739518e+00],\n",
              "       [ 2.22955202e+00, -5.39133062e+00],\n",
              "       [ 3.73276312e+00, -5.80332629e+00],\n",
              "       [ 1.90412672e-02, -8.20343961e+00],\n",
              "       [ 2.69398836e+00, -6.25884824e+00],\n",
              "       [ 2.20912750e+00, -6.65152963e+00],\n",
              "       [ 1.86227922e+00, -8.18591709e+00],\n",
              "       [ 4.67243041e+00, -6.14345418e+00],\n",
              "       [ 7.64742721e-01, -5.93407997e+00],\n",
              "       [ 1.29895388e+00, -3.73518649e+00],\n",
              "       [ 2.60525659e+00, -5.29155608e+00],\n",
              "       [ 1.45145098e+00, -2.95857153e+00],\n",
              "       [ 3.53950061e+00, -5.67059035e+00],\n",
              "       [ 1.76785995e+00, -8.54653637e+00],\n",
              "       [ 2.91739830e+00, -7.80284611e+00]])"
            ]
          },
          "metadata": {
            "tags": []
          },
          "execution_count": 46
        }
      ]
    },
    {
      "cell_type": "code",
      "metadata": {
        "colab": {
          "base_uri": "https://localhost:8080/"
        },
        "id": "r08IWPsMX_Yc",
        "outputId": "b6a1c802-79f9-4e6a-9fbd-688ff90b50c2"
      },
      "source": [
        "new_pca.shape"
      ],
      "execution_count": 47,
      "outputs": [
        {
          "output_type": "execute_result",
          "data": {
            "text/plain": [
              "(300, 2)"
            ]
          },
          "metadata": {
            "tags": []
          },
          "execution_count": 47
        }
      ]
    },
    {
      "cell_type": "markdown",
      "metadata": {
        "id": "pOe8LUsuYGZH"
      },
      "source": [
        "### ดูว่า brand มีอะไรบ้าง"
      ]
    },
    {
      "cell_type": "code",
      "metadata": {
        "colab": {
          "base_uri": "https://localhost:8080/"
        },
        "id": "8ZQ5ltfiYM8t",
        "outputId": "994103e0-3a95-48cc-baaf-30c88a003edb"
      },
      "source": [
        "Pizza = set(data['brand'])\n",
        "Pizza"
      ],
      "execution_count": 49,
      "outputs": [
        {
          "output_type": "execute_result",
          "data": {
            "text/plain": [
              "{'A', 'B', 'C', 'D', 'E', 'F', 'G', 'H', 'I', 'J'}"
            ]
          },
          "metadata": {
            "tags": []
          },
          "execution_count": 49
        }
      ]
    },
    {
      "cell_type": "markdown",
      "metadata": {
        "id": "mhRiiA0yYYP8"
      },
      "source": [
        "### สร้าง Dictionary เพื่อแทนค่าที่เป็น text ให้เป็นตัวเลข เพื่อจะได้ plot สีได้"
      ]
    },
    {
      "cell_type": "markdown",
      "metadata": {
        "id": "_XnCkoX0Yn6c"
      },
      "source": [
        "### แปลงเป็น list แล้วเรียงสมาชิกจากน้อยไปมาก"
      ]
    },
    {
      "cell_type": "code",
      "metadata": {
        "id": "P0dG3kr0YP6s"
      },
      "source": [
        "Pizza_l = list2(Pizza)\n",
        "Pizza_l.sort() \n",
        "color_list = {}\n",
        "num = 0\n",
        "for each_pizza in Pizza_l:\n",
        "  if each_pizza not in color_list2:\n",
        "    color_list2[each_pizza] = num\n",
        "    num+=1"
      ],
      "execution_count": 56,
      "outputs": []
    },
    {
      "cell_type": "code",
      "metadata": {
        "colab": {
          "base_uri": "https://localhost:8080/"
        },
        "id": "FeRkl_mxY218",
        "outputId": "84f87c84-4cd6-4c18-9281-e21341f952a2"
      },
      "source": [
        "color_list2"
      ],
      "execution_count": 58,
      "outputs": [
        {
          "output_type": "execute_result",
          "data": {
            "text/plain": [
              "{'A': 0,\n",
              " 'B': 1,\n",
              " 'C': 2,\n",
              " 'D': 3,\n",
              " 'E': 4,\n",
              " 'F': 5,\n",
              " 'G': 6,\n",
              " 'H': 7,\n",
              " 'I': 8,\n",
              " 'J': 9}"
            ]
          },
          "metadata": {
            "tags": []
          },
          "execution_count": 58
        }
      ]
    },
    {
      "cell_type": "code",
      "metadata": {
        "id": "sOItOy8IZaer"
      },
      "source": [
        "data_dropped = data.replace(color_list2)"
      ],
      "execution_count": 59,
      "outputs": []
    },
    {
      "cell_type": "code",
      "metadata": {
        "colab": {
          "base_uri": "https://localhost:8080/",
          "height": 419
        },
        "id": "V0meM3HmZ2Dj",
        "outputId": "f5eba9d4-0c8a-40d8-9566-bc5dbe18c4f3"
      },
      "source": [
        "data_dropped"
      ],
      "execution_count": 60,
      "outputs": [
        {
          "output_type": "execute_result",
          "data": {
            "text/html": [
              "<div>\n",
              "<style scoped>\n",
              "    .dataframe tbody tr th:only-of-type {\n",
              "        vertical-align: middle;\n",
              "    }\n",
              "\n",
              "    .dataframe tbody tr th {\n",
              "        vertical-align: top;\n",
              "    }\n",
              "\n",
              "    .dataframe thead th {\n",
              "        text-align: right;\n",
              "    }\n",
              "</style>\n",
              "<table border=\"1\" class=\"dataframe\">\n",
              "  <thead>\n",
              "    <tr style=\"text-align: right;\">\n",
              "      <th></th>\n",
              "      <th>brand</th>\n",
              "      <th>id</th>\n",
              "      <th>mois</th>\n",
              "      <th>prot</th>\n",
              "      <th>fat</th>\n",
              "      <th>ash</th>\n",
              "      <th>sodium</th>\n",
              "      <th>carb</th>\n",
              "      <th>cal</th>\n",
              "    </tr>\n",
              "  </thead>\n",
              "  <tbody>\n",
              "    <tr>\n",
              "      <th>0</th>\n",
              "      <td>0</td>\n",
              "      <td>14069</td>\n",
              "      <td>27.82</td>\n",
              "      <td>21.43</td>\n",
              "      <td>44.87</td>\n",
              "      <td>5.11</td>\n",
              "      <td>1.77</td>\n",
              "      <td>0.77</td>\n",
              "      <td>4.93</td>\n",
              "    </tr>\n",
              "    <tr>\n",
              "      <th>1</th>\n",
              "      <td>0</td>\n",
              "      <td>14053</td>\n",
              "      <td>28.49</td>\n",
              "      <td>21.26</td>\n",
              "      <td>43.89</td>\n",
              "      <td>5.34</td>\n",
              "      <td>1.79</td>\n",
              "      <td>1.02</td>\n",
              "      <td>4.84</td>\n",
              "    </tr>\n",
              "    <tr>\n",
              "      <th>2</th>\n",
              "      <td>0</td>\n",
              "      <td>14025</td>\n",
              "      <td>28.35</td>\n",
              "      <td>19.99</td>\n",
              "      <td>45.78</td>\n",
              "      <td>5.08</td>\n",
              "      <td>1.63</td>\n",
              "      <td>0.80</td>\n",
              "      <td>4.95</td>\n",
              "    </tr>\n",
              "    <tr>\n",
              "      <th>3</th>\n",
              "      <td>0</td>\n",
              "      <td>14016</td>\n",
              "      <td>30.55</td>\n",
              "      <td>20.15</td>\n",
              "      <td>43.13</td>\n",
              "      <td>4.79</td>\n",
              "      <td>1.61</td>\n",
              "      <td>1.38</td>\n",
              "      <td>4.74</td>\n",
              "    </tr>\n",
              "    <tr>\n",
              "      <th>4</th>\n",
              "      <td>0</td>\n",
              "      <td>14005</td>\n",
              "      <td>30.49</td>\n",
              "      <td>21.28</td>\n",
              "      <td>41.65</td>\n",
              "      <td>4.82</td>\n",
              "      <td>1.64</td>\n",
              "      <td>1.76</td>\n",
              "      <td>4.67</td>\n",
              "    </tr>\n",
              "    <tr>\n",
              "      <th>...</th>\n",
              "      <td>...</td>\n",
              "      <td>...</td>\n",
              "      <td>...</td>\n",
              "      <td>...</td>\n",
              "      <td>...</td>\n",
              "      <td>...</td>\n",
              "      <td>...</td>\n",
              "      <td>...</td>\n",
              "      <td>...</td>\n",
              "    </tr>\n",
              "    <tr>\n",
              "      <th>295</th>\n",
              "      <td>9</td>\n",
              "      <td>34044</td>\n",
              "      <td>44.91</td>\n",
              "      <td>11.07</td>\n",
              "      <td>17.00</td>\n",
              "      <td>2.49</td>\n",
              "      <td>0.66</td>\n",
              "      <td>25.36</td>\n",
              "      <td>2.91</td>\n",
              "    </tr>\n",
              "    <tr>\n",
              "      <th>296</th>\n",
              "      <td>9</td>\n",
              "      <td>24069</td>\n",
              "      <td>43.15</td>\n",
              "      <td>11.79</td>\n",
              "      <td>18.46</td>\n",
              "      <td>2.43</td>\n",
              "      <td>0.67</td>\n",
              "      <td>24.17</td>\n",
              "      <td>3.10</td>\n",
              "    </tr>\n",
              "    <tr>\n",
              "      <th>297</th>\n",
              "      <td>9</td>\n",
              "      <td>34039</td>\n",
              "      <td>44.55</td>\n",
              "      <td>11.01</td>\n",
              "      <td>16.03</td>\n",
              "      <td>2.43</td>\n",
              "      <td>0.64</td>\n",
              "      <td>25.98</td>\n",
              "      <td>2.92</td>\n",
              "    </tr>\n",
              "    <tr>\n",
              "      <th>298</th>\n",
              "      <td>9</td>\n",
              "      <td>14044</td>\n",
              "      <td>47.60</td>\n",
              "      <td>10.43</td>\n",
              "      <td>15.18</td>\n",
              "      <td>2.32</td>\n",
              "      <td>0.56</td>\n",
              "      <td>24.47</td>\n",
              "      <td>2.76</td>\n",
              "    </tr>\n",
              "    <tr>\n",
              "      <th>299</th>\n",
              "      <td>9</td>\n",
              "      <td>14045</td>\n",
              "      <td>46.84</td>\n",
              "      <td>9.91</td>\n",
              "      <td>15.50</td>\n",
              "      <td>2.27</td>\n",
              "      <td>0.57</td>\n",
              "      <td>25.48</td>\n",
              "      <td>2.81</td>\n",
              "    </tr>\n",
              "  </tbody>\n",
              "</table>\n",
              "<p>300 rows × 9 columns</p>\n",
              "</div>"
            ],
            "text/plain": [
              "     brand     id   mois   prot    fat   ash  sodium   carb   cal\n",
              "0        0  14069  27.82  21.43  44.87  5.11    1.77   0.77  4.93\n",
              "1        0  14053  28.49  21.26  43.89  5.34    1.79   1.02  4.84\n",
              "2        0  14025  28.35  19.99  45.78  5.08    1.63   0.80  4.95\n",
              "3        0  14016  30.55  20.15  43.13  4.79    1.61   1.38  4.74\n",
              "4        0  14005  30.49  21.28  41.65  4.82    1.64   1.76  4.67\n",
              "..     ...    ...    ...    ...    ...   ...     ...    ...   ...\n",
              "295      9  34044  44.91  11.07  17.00  2.49    0.66  25.36  2.91\n",
              "296      9  24069  43.15  11.79  18.46  2.43    0.67  24.17  3.10\n",
              "297      9  34039  44.55  11.01  16.03  2.43    0.64  25.98  2.92\n",
              "298      9  14044  47.60  10.43  15.18  2.32    0.56  24.47  2.76\n",
              "299      9  14045  46.84   9.91  15.50  2.27    0.57  25.48  2.81\n",
              "\n",
              "[300 rows x 9 columns]"
            ]
          },
          "metadata": {
            "tags": []
          },
          "execution_count": 60
        }
      ]
    },
    {
      "cell_type": "markdown",
      "metadata": {
        "id": "29-4VtxvaXPT"
      },
      "source": [
        "### plot กราฟ Scatter"
      ]
    },
    {
      "cell_type": "code",
      "metadata": {
        "id": "C8Rg6mtVawfh"
      },
      "source": [
        "from matplotlib import pyplot as plt"
      ],
      "execution_count": 62,
      "outputs": []
    },
    {
      "cell_type": "code",
      "metadata": {
        "colab": {
          "base_uri": "https://localhost:8080/",
          "height": 282
        },
        "id": "L0IVZn0LZ4nO",
        "outputId": "27ae91a2-375e-452b-bae4-8f5ba6dc13b5"
      },
      "source": [
        "plt.scatter(new_pca[:,0],new_pca[:,1],c = data_dropped['brand'])"
      ],
      "execution_count": 63,
      "outputs": [
        {
          "output_type": "execute_result",
          "data": {
            "text/plain": [
              "<matplotlib.collections.PathCollection at 0x7f43b4485e10>"
            ]
          },
          "metadata": {
            "tags": []
          },
          "execution_count": 63
        },
        {
          "output_type": "display_data",
          "data": {
            "image/png": "[encoded data removed]",
            "text/plain": [
              "<Figure size 432x288 with 1 Axes>"
            ]
          },
          "metadata": {
            "tags": [],
            "needs_background": "light"
          }
        }
      ]
    },
    {
      "cell_type": "code",
      "metadata": {
        "colab": {
          "base_uri": "https://localhost:8080/",
          "height": 282
        },
        "id": "Pz80iiy6aU7T",
        "outputId": "7f3417e8-b81d-4a09-eb06-5cd4baed9e99"
      },
      "source": [
        "plt.scatter(new_pca[:,0],new_pca[:,1],c = data_dropped['brand'],alpha=0.5) ### alpha คือความโปร่งใส"
      ],
      "execution_count": 67,
      "outputs": [
        {
          "output_type": "execute_result",
          "data": {
            "text/plain": [
              "<matplotlib.collections.PathCollection at 0x7f43b43ffe50>"
            ]
          },
          "metadata": {
            "tags": []
          },
          "execution_count": 67
        },
        {
          "output_type": "display_data",
          "data": {
            "image/png": "[encoded data removed]",
            "text/plain": [
              "<Figure size 432x288 with 1 Axes>"
            ]
          },
          "metadata": {
            "tags": [],
            "needs_background": "light"
          }
        }
      ]
    },
    {
      "cell_type": "markdown",
      "metadata": {
        "id": "4cmRikxMcxvN"
      },
      "source": [
        "### เปรียบเทียบสารอาหาร brand C และ G\n"
      ]
    },
    {
      "cell_type": "code",
      "metadata": {
        "colab": {
          "base_uri": "https://localhost:8080/",
          "height": 419
        },
        "id": "l-02HGBzdlrI",
        "outputId": "f3a78bdf-33b1-4446-e629-4e6a478dd8a2"
      },
      "source": [
        "CG = data_dropped[(data_dropped['brand']==3) | (data_dropped['brand']==6)]  \n",
        "CG"
      ],
      "execution_count": 80,
      "outputs": [
        {
          "output_type": "execute_result",
          "data": {
            "text/html": [
              "<div>\n",
              "<style scoped>\n",
              "    .dataframe tbody tr th:only-of-type {\n",
              "        vertical-align: middle;\n",
              "    }\n",
              "\n",
              "    .dataframe tbody tr th {\n",
              "        vertical-align: top;\n",
              "    }\n",
              "\n",
              "    .dataframe thead th {\n",
              "        text-align: right;\n",
              "    }\n",
              "</style>\n",
              "<table border=\"1\" class=\"dataframe\">\n",
              "  <thead>\n",
              "    <tr style=\"text-align: right;\">\n",
              "      <th></th>\n",
              "      <th>brand</th>\n",
              "      <th>id</th>\n",
              "      <th>mois</th>\n",
              "      <th>prot</th>\n",
              "      <th>fat</th>\n",
              "      <th>ash</th>\n",
              "      <th>sodium</th>\n",
              "      <th>carb</th>\n",
              "      <th>cal</th>\n",
              "    </tr>\n",
              "  </thead>\n",
              "  <tbody>\n",
              "    <tr>\n",
              "      <th>87</th>\n",
              "      <td>3</td>\n",
              "      <td>14092</td>\n",
              "      <td>46.64</td>\n",
              "      <td>21.38</td>\n",
              "      <td>24.96</td>\n",
              "      <td>4.60</td>\n",
              "      <td>0.77</td>\n",
              "      <td>2.42</td>\n",
              "      <td>3.20</td>\n",
              "    </tr>\n",
              "    <tr>\n",
              "      <th>88</th>\n",
              "      <td>3</td>\n",
              "      <td>14081</td>\n",
              "      <td>45.93</td>\n",
              "      <td>21.60</td>\n",
              "      <td>25.87</td>\n",
              "      <td>4.51</td>\n",
              "      <td>0.73</td>\n",
              "      <td>2.09</td>\n",
              "      <td>3.28</td>\n",
              "    </tr>\n",
              "    <tr>\n",
              "      <th>89</th>\n",
              "      <td>3</td>\n",
              "      <td>14072</td>\n",
              "      <td>47.60</td>\n",
              "      <td>22.07</td>\n",
              "      <td>21.13</td>\n",
              "      <td>4.07</td>\n",
              "      <td>0.72</td>\n",
              "      <td>5.13</td>\n",
              "      <td>2.99</td>\n",
              "    </tr>\n",
              "    <tr>\n",
              "      <th>90</th>\n",
              "      <td>3</td>\n",
              "      <td>14116</td>\n",
              "      <td>47.61</td>\n",
              "      <td>22.44</td>\n",
              "      <td>19.61</td>\n",
              "      <td>4.06</td>\n",
              "      <td>0.60</td>\n",
              "      <td>6.28</td>\n",
              "      <td>2.91</td>\n",
              "    </tr>\n",
              "    <tr>\n",
              "      <th>91</th>\n",
              "      <td>3</td>\n",
              "      <td>14128</td>\n",
              "      <td>46.91</td>\n",
              "      <td>21.79</td>\n",
              "      <td>21.17</td>\n",
              "      <td>4.06</td>\n",
              "      <td>0.76</td>\n",
              "      <td>6.07</td>\n",
              "      <td>3.02</td>\n",
              "    </tr>\n",
              "    <tr>\n",
              "      <th>...</th>\n",
              "      <td>...</td>\n",
              "      <td>...</td>\n",
              "      <td>...</td>\n",
              "      <td>...</td>\n",
              "      <td>...</td>\n",
              "      <td>...</td>\n",
              "      <td>...</td>\n",
              "      <td>...</td>\n",
              "      <td>...</td>\n",
              "    </tr>\n",
              "    <tr>\n",
              "      <th>201</th>\n",
              "      <td>6</td>\n",
              "      <td>34008</td>\n",
              "      <td>26.45</td>\n",
              "      <td>7.89</td>\n",
              "      <td>17.97</td>\n",
              "      <td>1.30</td>\n",
              "      <td>0.39</td>\n",
              "      <td>46.39</td>\n",
              "      <td>3.79</td>\n",
              "    </tr>\n",
              "    <tr>\n",
              "      <th>202</th>\n",
              "      <td>6</td>\n",
              "      <td>34018</td>\n",
              "      <td>27.72</td>\n",
              "      <td>8.24</td>\n",
              "      <td>15.16</td>\n",
              "      <td>1.46</td>\n",
              "      <td>0.45</td>\n",
              "      <td>47.42</td>\n",
              "      <td>3.59</td>\n",
              "    </tr>\n",
              "    <tr>\n",
              "      <th>203</th>\n",
              "      <td>6</td>\n",
              "      <td>24059</td>\n",
              "      <td>25.00</td>\n",
              "      <td>8.49</td>\n",
              "      <td>16.87</td>\n",
              "      <td>1.45</td>\n",
              "      <td>0.47</td>\n",
              "      <td>48.19</td>\n",
              "      <td>3.79</td>\n",
              "    </tr>\n",
              "    <tr>\n",
              "      <th>204</th>\n",
              "      <td>6</td>\n",
              "      <td>34013</td>\n",
              "      <td>29.14</td>\n",
              "      <td>8.46</td>\n",
              "      <td>12.25</td>\n",
              "      <td>1.51</td>\n",
              "      <td>0.46</td>\n",
              "      <td>48.64</td>\n",
              "      <td>3.39</td>\n",
              "    </tr>\n",
              "    <tr>\n",
              "      <th>205</th>\n",
              "      <td>6</td>\n",
              "      <td>24149</td>\n",
              "      <td>28.64</td>\n",
              "      <td>8.01</td>\n",
              "      <td>16.02</td>\n",
              "      <td>1.43</td>\n",
              "      <td>0.45</td>\n",
              "      <td>45.90</td>\n",
              "      <td>3.60</td>\n",
              "    </tr>\n",
              "  </tbody>\n",
              "</table>\n",
              "<p>61 rows × 9 columns</p>\n",
              "</div>"
            ],
            "text/plain": [
              "     brand     id   mois   prot    fat   ash  sodium   carb   cal\n",
              "87       3  14092  46.64  21.38  24.96  4.60    0.77   2.42  3.20\n",
              "88       3  14081  45.93  21.60  25.87  4.51    0.73   2.09  3.28\n",
              "89       3  14072  47.60  22.07  21.13  4.07    0.72   5.13  2.99\n",
              "90       3  14116  47.61  22.44  19.61  4.06    0.60   6.28  2.91\n",
              "91       3  14128  46.91  21.79  21.17  4.06    0.76   6.07  3.02\n",
              "..     ...    ...    ...    ...    ...   ...     ...    ...   ...\n",
              "201      6  34008  26.45   7.89  17.97  1.30    0.39  46.39  3.79\n",
              "202      6  34018  27.72   8.24  15.16  1.46    0.45  47.42  3.59\n",
              "203      6  24059  25.00   8.49  16.87  1.45    0.47  48.19  3.79\n",
              "204      6  34013  29.14   8.46  12.25  1.51    0.46  48.64  3.39\n",
              "205      6  24149  28.64   8.01  16.02  1.43    0.45  45.90  3.60\n",
              "\n",
              "[61 rows x 9 columns]"
            ]
          },
          "metadata": {
            "tags": []
          },
          "execution_count": 80
        }
      ]
    },
    {
      "cell_type": "markdown",
      "metadata": {
        "id": "AMhO1of2fX-9"
      },
      "source": [
        "### ใช้ 2 dimention เปรียบเทียบแค่ 2 brand"
      ]
    },
    {
      "cell_type": "code",
      "metadata": {
        "id": "fvBYth6QfBhp"
      },
      "source": [
        "pca = PCA(n_components=2)     \n",
        "new_pca2 = pca.fit_transform(pz.iloc[:,1:].to_numpy())"
      ],
      "execution_count": 85,
      "outputs": []
    },
    {
      "cell_type": "code",
      "metadata": {
        "colab": {
          "base_uri": "https://localhost:8080/",
          "height": 282
        },
        "id": "7KurnfOvfRbB",
        "outputId": "1a5eb000-5f55-48f1-92da-ce6f43bdc590"
      },
      "source": [
        "plt.scatter(new_pca2[:,0],new_pca2[:,1],c = pz['brand'],alpha=0.5)"
      ],
      "execution_count": 87,
      "outputs": [
        {
          "output_type": "execute_result",
          "data": {
            "text/plain": [
              "<matplotlib.collections.PathCollection at 0x7f43b42fc6d0>"
            ]
          },
          "metadata": {
            "tags": []
          },
          "execution_count": 87
        },
        {
          "output_type": "display_data",
          "data": {
            "image/png": "[encoded data removed]",
            "text/plain": [
              "<Figure size 432x288 with 1 Axes>"
            ]
          },
          "metadata": {
            "tags": [],
            "needs_background": "light"
          }
        }
      ]
    },
    {
      "cell_type": "code",
      "metadata": {
        "id": "FAD2T-REfb7g"
      },
      "source": [
        "prot_pca = pca.transform(pz[pz['brand']==3].iloc[:,1:].to_numpy())\n",
        "cal_pca = pca.transform(pz[pz['brand']==6].iloc[:,1:].to_numpy())"
      ],
      "execution_count": 89,
      "outputs": []
    },
    {
      "cell_type": "code",
      "metadata": {
        "colab": {
          "base_uri": "https://localhost:8080/",
          "height": 282
        },
        "id": "xVPtAlbRfjpK",
        "outputId": "f9971faf-4cd3-40cb-8e97-d22e229bf9bc"
      },
      "source": [
        "plt.plot(prot_pca[:,0],prot_pca[:,1],'oc',alpha=0.5,label='prot')\n",
        "plt.plot(cal_pca[:,0],cal_pca[:,1],'*r',alpha=0.5,label='cal')\n",
        "plt.legend()"
      ],
      "execution_count": 92,
      "outputs": [
        {
          "output_type": "execute_result",
          "data": {
            "text/plain": [
              "<matplotlib.legend.Legend at 0x7f43b3de4ad0>"
            ]
          },
          "metadata": {
            "tags": []
          },
          "execution_count": 92
        },
        {
          "output_type": "display_data",
          "data": {
            "image/png": "[encoded data removed]",
            "text/plain": [
              "<Figure size 432x288 with 1 Axes>"
            ]
          },
          "metadata": {
            "tags": [],
            "needs_background": "light"
          }
        }
      ]
    },
    {
      "cell_type": "code",
      "metadata": {
        "colab": {
          "base_uri": "https://localhost:8080/"
        },
        "id": "Ip-s0dQSfosk",
        "outputId": "47a87214-4501-460c-c1df-1a24044b9b7e"
      },
      "source": [
        "pca.explained_variance_ratio_"
      ],
      "execution_count": 93,
      "outputs": [
        {
          "output_type": "execute_result",
          "data": {
            "text/plain": [
              "array([9.99984988e-01, 1.48401818e-05])"
            ]
          },
          "metadata": {
            "tags": []
          },
          "execution_count": 93
        }
      ]
    },
    {
      "cell_type": "markdown",
      "metadata": {
        "id": "iNbeZyGIhu0-"
      },
      "source": [
        "### สร้างกราฟและตั้งชื่อกราฟ"
      ]
    },
    {
      "cell_type": "code",
      "metadata": {
        "colab": {
          "base_uri": "https://localhost:8080/",
          "height": 295
        },
        "id": "Nj1d37NogjjN",
        "outputId": "e4ac6bbd-ea2c-479a-9e4e-5e23ac4055d4"
      },
      "source": [
        "plt.plot(prot_pca[:,0],prot_pca[:,1],'or',alpha=0.5,label='prot')\n",
        "plt.plot(cal_pca[:,0],cal_pca[:,1],'^b',alpha=0.5,label='cal')\n",
        "plt.legend()\n",
        "plt.title('comparison of nutritions prot VS cal with PCA')   ### ชื่อกราฟ\n",
        "plt.xlabel('PC1 (97.88%)')   ### ชื่อแกน X\n",
        "plt.ylabel('PC2 (2.04%)');  ### ชื่อแกน y"
      ],
      "execution_count": 97,
      "outputs": [
        {
          "output_type": "display_data",
          "data": {
            "image/png": "[encoded data removed]",
            "text/plain": [
              "<Figure size 432x288 with 1 Axes>"
            ]
          },
          "metadata": {
            "tags": [],
            "needs_background": "light"
          }
        }
      ]
    },
    {
      "cell_type": "markdown",
      "metadata": {
        "id": "5eCH_iaXigYs"
      },
      "source": [
        "จากการเปรียบเทียบสารอาหารระหว่าง brand C และ brand G แล้ว PC1(97.88%) + PC2(2.04%) ได้ 99.92% ดังนั้น components จึงอธิบาย variance ได้ครอบคลุม"
      ]
    },
    {
      "cell_type": "code",
      "metadata": {
        "id": "Sg6DloyDgdL2"
      },
      "source": [
        ""
      ],
      "execution_count": 99,
      "outputs": []
    }
  ]
}