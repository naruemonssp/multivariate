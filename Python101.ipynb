{
  "nbformat": 4,
  "nbformat_minor": 0,
  "metadata": {
    "colab": {
      "name": "Python101.ipynb",
      "provenance": [],
      "collapsed_sections": [],
      "authorship_tag": "ABX9TyPjLkiTBBYE9DV95BtIoky6",
      "include_colab_link": true
    },
    "kernelspec": {
      "name": "python3",
      "display_name": "Python 3"
    }
  },
  "cells": [
    {
      "cell_type": "markdown",
      "metadata": {
        "id": "view-in-github",
        "colab_type": "text"
      },
      "source": [
        "<a href=\"https://colab.research.google.com/github/naruemonssp/multivariate/blob/main/Python101.ipynb\" target=\"_parent\"><img src=\"https://colab.research.google.com/assets/colab-badge.svg\" alt=\"Open In Colab\"/></a>"
      ]
    },
    {
      "cell_type": "markdown",
      "metadata": {
        "id": "YzMcC9ZZLjZ-"
      },
      "source": [
        "ตัวแปร variable"
      ]
    },
    {
      "cell_type": "markdown",
      "metadata": {
        "id": "Sri-Pf2dL7z1"
      },
      "source": [
        "หลักการตั้งชื่อตัวแปร\r\n",
        "\r\n",
        "1.   ตั้งให้สื่อ\r\n",
        "2.   ภาษาอังกฤษ\r\n",
        "3.   ใช้ตัวเลขได้ห้ามขึ้นต้นด้วยเลข\r\n",
        "4.   ห้ามเว้นวรรค\r\n",
        "5.   ตัวเล็กกับตัวใหญ่ไม่เหมือนกัน\r\n",
        "\r\n",
        "มี output 2 mode : ออกหน้าจอ กับ เข้าไปเก็บในตัวแปร\r\n",
        "\r\n"
      ]
    },
    {
      "cell_type": "code",
      "metadata": {
        "colab": {
          "base_uri": "https://localhost:8080/"
        },
        "id": "LNjDr6LLJ9Oq",
        "outputId": "60b44ff5-ee9c-49e8-89df-92467a552766"
      },
      "source": [
        "3.14159  # <<เครื่องหมายนี้คือการคอมเม้น >>> output ออกหน้าจอ"
      ],
      "execution_count": 73,
      "outputs": [
        {
          "output_type": "execute_result",
          "data": {
            "text/plain": [
              "3.14159"
            ]
          },
          "metadata": {
            "tags": []
          },
          "execution_count": 73
        }
      ]
    },
    {
      "cell_type": "code",
      "metadata": {
        "id": "jZAfRW7DLzoX"
      },
      "source": [
        "Pi=3.14159 # output ที่เข้าไปอยู่ในตัวแปร"
      ],
      "execution_count": 74,
      "outputs": []
    },
    {
      "cell_type": "code",
      "metadata": {
        "colab": {
          "base_uri": "https://localhost:8080/"
        },
        "id": "M8vE038XLzrH",
        "outputId": "1ecd20de-8031-4b05-a659-e06f303334ee"
      },
      "source": [
        "Pi"
      ],
      "execution_count": 75,
      "outputs": [
        {
          "output_type": "execute_result",
          "data": {
            "text/plain": [
              "3.14159"
            ]
          },
          "metadata": {
            "tags": []
          },
          "execution_count": 75
        }
      ]
    },
    {
      "cell_type": "code",
      "metadata": {
        "colab": {
          "base_uri": "https://localhost:8080/"
        },
        "id": "Dv3wNPxQLzt6",
        "outputId": "92d441c8-8312-4344-eab3-319f086c82c2"
      },
      "source": [
        "a = 1234567\r\n",
        "print(a)"
      ],
      "execution_count": 76,
      "outputs": [
        {
          "output_type": "stream",
          "text": [
            "1234567\n"
          ],
          "name": "stdout"
        }
      ]
    },
    {
      "cell_type": "code",
      "metadata": {
        "colab": {
          "base_uri": "https://localhost:8080/"
        },
        "id": "lcM-ILttNNuy",
        "outputId": "8b693722-535a-4a40-f958-ca7ebc6e04a1"
      },
      "source": [
        "a"
      ],
      "execution_count": 77,
      "outputs": [
        {
          "output_type": "execute_result",
          "data": {
            "text/plain": [
              "1234567"
            ]
          },
          "metadata": {
            "tags": []
          },
          "execution_count": 77
        }
      ]
    },
    {
      "cell_type": "markdown",
      "metadata": {
        "id": "0qWk7iD4NmrU"
      },
      "source": [
        "##**ชนิดของตัวแปร 3 ชนิด**\r\n",
        "\r\n",
        "### จำนวนเต็ม (integer,int)"
      ]
    },
    {
      "cell_type": "code",
      "metadata": {
        "colab": {
          "base_uri": "https://localhost:8080/"
        },
        "id": "AFdnsKLiNNxV",
        "outputId": "5097f6d1-9e4e-482e-da39-17d27e399560"
      },
      "source": [
        "aaa = 1092\r\n",
        "print(aaa)"
      ],
      "execution_count": 78,
      "outputs": [
        {
          "output_type": "stream",
          "text": [
            "1092\n"
          ],
          "name": "stdout"
        }
      ]
    },
    {
      "cell_type": "markdown",
      "metadata": {
        "id": "ptErjsaTO0qZ"
      },
      "source": [
        "### จำนวนจริง (float)\r\n"
      ]
    },
    {
      "cell_type": "code",
      "metadata": {
        "colab": {
          "base_uri": "https://localhost:8080/"
        },
        "id": "h2bJNOniNZD9",
        "outputId": "0d0afc79-b9a3-41c6-e233-d15b9c0e7188"
      },
      "source": [
        "bbb = 11.\r\n",
        "print(bbb)"
      ],
      "execution_count": 79,
      "outputs": [
        {
          "output_type": "stream",
          "text": [
            "11.0\n"
          ],
          "name": "stdout"
        }
      ]
    },
    {
      "cell_type": "markdown",
      "metadata": {
        "id": "bSw8Yfc6PPcS"
      },
      "source": [
        "### ตัวอักษร-ข้อความ (character และ text,string)"
      ]
    },
    {
      "cell_type": "code",
      "metadata": {
        "colab": {
          "base_uri": "https://localhost:8080/"
        },
        "id": "hK9KP3chNZG2",
        "outputId": "023ce9d9-21d9-42e6-d58c-56edc436f8a8"
      },
      "source": [
        "ccc = '1234566'  #เราใช้ single quote ' หรือ double quote \" หน้าและหลังตัวหนังสือเพื่อระบุว่าเป็น character-string\r\n",
        "print(ccc)"
      ],
      "execution_count": 80,
      "outputs": [
        {
          "output_type": "stream",
          "text": [
            "1234566\n"
          ],
          "name": "stdout"
        }
      ]
    },
    {
      "cell_type": "markdown",
      "metadata": {
        "id": "Kmom96H2QAob"
      },
      "source": [
        "######ตัวแปร int + float บวกกันได้ = float\r\n",
        "######ตัวแปร int + char บวกกันไม่ได้ error\r\n",
        "######ตัวแปร float + char บวกกันไม่ได้ error"
      ]
    },
    {
      "cell_type": "code",
      "metadata": {
        "colab": {
          "base_uri": "https://localhost:8080/"
        },
        "id": "GJCcEj4sNZJV",
        "outputId": "70513bec-d14a-4034-9c9b-79f7359b6421"
      },
      "source": [
        "ddd = \"naruemon\"\r\n",
        "print(ddd)"
      ],
      "execution_count": 81,
      "outputs": [
        {
          "output_type": "stream",
          "text": [
            "naruemon\n"
          ],
          "name": "stdout"
        }
      ]
    },
    {
      "cell_type": "code",
      "metadata": {
        "colab": {
          "base_uri": "https://localhost:8080/",
          "height": 35
        },
        "id": "YW7C3a_xNN0A",
        "outputId": "d358e6fe-cc38-4592-812c-fca7b8d729c9"
      },
      "source": [
        "ddd"
      ],
      "execution_count": 82,
      "outputs": [
        {
          "output_type": "execute_result",
          "data": {
            "application/vnd.google.colaboratory.intrinsic+json": {
              "type": "string"
            },
            "text/plain": [
              "'naruemon'"
            ]
          },
          "metadata": {
            "tags": []
          },
          "execution_count": 82
        }
      ]
    },
    {
      "cell_type": "markdown",
      "metadata": {
        "id": "FZTmzMIYQ0pi"
      },
      "source": [
        "# การเปลี่ยนชนิดของตัวแปร variable casting"
      ]
    },
    {
      "cell_type": "code",
      "metadata": {
        "colab": {
          "base_uri": "https://localhost:8080/"
        },
        "id": "7a12j1wmQxYX",
        "outputId": "fcc65e64-c83d-4e16-9e26-5d9b94957d6f"
      },
      "source": [
        "aaa + int(ccc)"
      ],
      "execution_count": 83,
      "outputs": [
        {
          "output_type": "execute_result",
          "data": {
            "text/plain": [
              "1235658"
            ]
          },
          "metadata": {
            "tags": []
          },
          "execution_count": 83
        }
      ]
    },
    {
      "cell_type": "code",
      "metadata": {
        "colab": {
          "base_uri": "https://localhost:8080/"
        },
        "id": "o8m3pfjOQzym",
        "outputId": "16250057-854e-4fc8-b55a-e68e85ebc61e"
      },
      "source": [
        "aaa + float(ccc)"
      ],
      "execution_count": 84,
      "outputs": [
        {
          "output_type": "execute_result",
          "data": {
            "text/plain": [
              "1235658.0"
            ]
          },
          "metadata": {
            "tags": []
          },
          "execution_count": 84
        }
      ]
    },
    {
      "cell_type": "code",
      "metadata": {
        "colab": {
          "base_uri": "https://localhost:8080/",
          "height": 35
        },
        "id": "uG_-_77nQz1T",
        "outputId": "71c35c83-5be8-4cee-e947-bf3547a914de"
      },
      "source": [
        "str(aaa)  #ถ้าใส่ print ด้านหน้าด้วยจะดูไม่ออก เพราะจะแสดงค่าเฉยๆ"
      ],
      "execution_count": 85,
      "outputs": [
        {
          "output_type": "execute_result",
          "data": {
            "application/vnd.google.colaboratory.intrinsic+json": {
              "type": "string"
            },
            "text/plain": [
              "'1092'"
            ]
          },
          "metadata": {
            "tags": []
          },
          "execution_count": 85
        }
      ]
    },
    {
      "cell_type": "markdown",
      "metadata": {
        "id": "SIz7wAovSL8d"
      },
      "source": [
        "# การดำเนินการ operation (operators +,-,*,/,%)"
      ]
    },
    {
      "cell_type": "code",
      "metadata": {
        "colab": {
          "base_uri": "https://localhost:8080/"
        },
        "id": "SRxOdA87Qz3i",
        "outputId": "df272528-eb39-47cd-b9c3-d6fac7b3a7bb"
      },
      "source": [
        "a + b  # อ่าน error ให้อ่านบรรทัดสุดท้าย NameError"
      ],
      "execution_count": 86,
      "outputs": [
        {
          "output_type": "execute_result",
          "data": {
            "text/plain": [
              "1236367"
            ]
          },
          "metadata": {
            "tags": []
          },
          "execution_count": 86
        }
      ]
    },
    {
      "cell_type": "code",
      "metadata": {
        "id": "nj05jvfkQz6g",
        "colab": {
          "base_uri": "https://localhost:8080/"
        },
        "outputId": "7c072909-a6c3-48b6-f281-5ab7db00034a"
      },
      "source": [
        "aaa + bbb"
      ],
      "execution_count": 87,
      "outputs": [
        {
          "output_type": "execute_result",
          "data": {
            "text/plain": [
              "1103.0"
            ]
          },
          "metadata": {
            "tags": []
          },
          "execution_count": 87
        }
      ]
    },
    {
      "cell_type": "code",
      "metadata": {
        "colab": {
          "base_uri": "https://localhost:8080/"
        },
        "id": "63oL3BN1Qz8Y",
        "outputId": "ba5a5229-11f2-4901-ad85-36abd10098d4"
      },
      "source": [
        "aaa - bbb"
      ],
      "execution_count": 88,
      "outputs": [
        {
          "output_type": "execute_result",
          "data": {
            "text/plain": [
              "1081.0"
            ]
          },
          "metadata": {
            "tags": []
          },
          "execution_count": 88
        }
      ]
    },
    {
      "cell_type": "code",
      "metadata": {
        "id": "fUFQl9mIQ0BG"
      },
      "source": [
        "ab = aaa*bbb"
      ],
      "execution_count": 89,
      "outputs": []
    },
    {
      "cell_type": "code",
      "metadata": {
        "colab": {
          "base_uri": "https://localhost:8080/"
        },
        "id": "UFYNF-l2Q0GW",
        "outputId": "5fbeaa25-957f-4afe-9fd5-549768bf4ddb"
      },
      "source": [
        "ab + int(ccc)"
      ],
      "execution_count": 90,
      "outputs": [
        {
          "output_type": "execute_result",
          "data": {
            "text/plain": [
              "1246578.0"
            ]
          },
          "metadata": {
            "tags": []
          },
          "execution_count": 90
        }
      ]
    },
    {
      "cell_type": "markdown",
      "metadata": {
        "id": "1Qmf9LGHTEvY"
      },
      "source": [
        "###% คือเครื่องหมาย modulo = หารเอาเศษ"
      ]
    },
    {
      "cell_type": "code",
      "metadata": {
        "colab": {
          "base_uri": "https://localhost:8080/"
        },
        "id": "QKn__RSJTC3b",
        "outputId": "46d8d6a8-47cf-4e65-8625-cbd30448e772"
      },
      "source": [
        "5%2"
      ],
      "execution_count": 91,
      "outputs": [
        {
          "output_type": "execute_result",
          "data": {
            "text/plain": [
              "1"
            ]
          },
          "metadata": {
            "tags": []
          },
          "execution_count": 91
        }
      ]
    },
    {
      "cell_type": "code",
      "metadata": {
        "colab": {
          "base_uri": "https://localhost:8080/"
        },
        "id": "dnpOmyZITEEb",
        "outputId": "9ab5e352-05a0-44d2-d443-a798f94a09af"
      },
      "source": [
        "14%2"
      ],
      "execution_count": 92,
      "outputs": [
        {
          "output_type": "execute_result",
          "data": {
            "text/plain": [
              "0"
            ]
          },
          "metadata": {
            "tags": []
          },
          "execution_count": 92
        }
      ]
    },
    {
      "cell_type": "markdown",
      "metadata": {
        "id": "1uGL7QazT31j"
      },
      "source": [
        "### คำสั่ง print แบบพิเศษ (การ format string)"
      ]
    },
    {
      "cell_type": "code",
      "metadata": {
        "colab": {
          "base_uri": "https://localhost:8080/"
        },
        "id": "n3tSog4tTEGz",
        "outputId": "74e1c28f-2109-4da3-bd02-cc35efc1c9c1"
      },
      "source": [
        "print('ตัวแปร') #สิ่งที่อยู่ข้างในวงเล็บคือ ตัวแปร และ string"
      ],
      "execution_count": 93,
      "outputs": [
        {
          "output_type": "stream",
          "text": [
            "ตัวแปร\n"
          ],
          "name": "stdout"
        }
      ]
    },
    {
      "cell_type": "code",
      "metadata": {
        "colab": {
          "base_uri": "https://localhost:8080/"
        },
        "id": "MNEgBPpiTEJZ",
        "outputId": "0d8cfef5-dc9e-4bfa-8d8c-4ffd453a2fe7"
      },
      "source": [
        "print(f'% คือการหารเอาเศษ เช่น 7%3 = {7%3}')  #เพิ่ม f หน้า 'string' และใช้ {} ใส่ code"
      ],
      "execution_count": 94,
      "outputs": [
        {
          "output_type": "stream",
          "text": [
            "% คือการหารเอาเศษ เช่น 7%3 = 1\n"
          ],
          "name": "stdout"
        }
      ]
    },
    {
      "cell_type": "code",
      "metadata": {
        "id": "IVPbxnc3TELj"
      },
      "source": [
        "## \\\\ <<ตัวตัดโคด, \\n <<เริ่มบรรทัดใหม่ ให้โคดอ่านง่ายขึ้น"
      ],
      "execution_count": 95,
      "outputs": []
    },
    {
      "cell_type": "code",
      "metadata": {
        "colab": {
          "base_uri": "https://localhost:8080/"
        },
        "id": "nmp9rTClTEN8",
        "outputId": "5fc199f5-18b9-44f4-9622-f25abf4f125c"
      },
      "source": [
        "print(f'% คือการหารเอาเศษ เช่น 7%3 = {7%3} \\\r\n",
        "แต่ \\n/ คือการหารปกติ เช่น 7/3 = {7/3} \\\r\n",
        "และ \\n// คือการหารเอาส่วน เช่น 7//3 = {7//3} \\\r\n",
        "หรือ \\nใช้ int() เพื่อหารเอาส่วน เช่น int(7/3) = {int(7/3)}') "
      ],
      "execution_count": 96,
      "outputs": [
        {
          "output_type": "stream",
          "text": [
            "% คือการหารเอาเศษ เช่น 7%3 = 1 แต่ \n",
            "/ คือการหารปกติ เช่น 7/3 = 2.3333333333333335 และ \n",
            "// คือการหารเอาส่วน เช่น 7//3 = 2 หรือ \n",
            "ใช้ int() เพื่อหารเอาส่วน เช่น int(7/3) = 2\n"
          ],
          "name": "stdout"
        }
      ]
    },
    {
      "cell_type": "markdown",
      "metadata": {
        "id": "oHCFsEV9W-CO"
      },
      "source": [
        "# Data Structure (โครงสร้างข้อมูล)\r\n",
        "### List คือการเอาข้อมูลหลายๆตัวมาเรียงต่อกัน\r\n",
        "### list สามารถสร้างได้ 2 แบบ ดังนี้"
      ]
    },
    {
      "cell_type": "code",
      "metadata": {
        "colab": {
          "base_uri": "https://localhost:8080/"
        },
        "id": "mRZ_RxO-TERI",
        "outputId": "77f3a27b-d4b9-4d0e-9fb1-3ba78e3ef07b"
      },
      "source": [
        "[111,'c','งองมาก',aaa]"
      ],
      "execution_count": 97,
      "outputs": [
        {
          "output_type": "execute_result",
          "data": {
            "text/plain": [
              "[111, 'c', 'งองมาก', 1092]"
            ]
          },
          "metadata": {
            "tags": []
          },
          "execution_count": 97
        }
      ]
    },
    {
      "cell_type": "markdown",
      "metadata": {
        "id": "lAJalwZWXq1K"
      },
      "source": [
        "แบบที่ 1 > square brackets"
      ]
    },
    {
      "cell_type": "code",
      "metadata": {
        "colab": {
          "base_uri": "https://localhost:8080/"
        },
        "id": "j7ehAifITEUc",
        "outputId": "f0320d2d-de46-4df4-c05d-bf6b3313e9c6"
      },
      "source": [
        "list_a = []\r\n",
        "print(list_a)"
      ],
      "execution_count": 98,
      "outputs": [
        {
          "output_type": "stream",
          "text": [
            "[]\n"
          ],
          "name": "stdout"
        }
      ]
    },
    {
      "cell_type": "code",
      "metadata": {
        "colab": {
          "base_uri": "https://localhost:8080/"
        },
        "id": "xi6NYvndTEWs",
        "outputId": "464ea553-6730-4034-e8b5-b70bc0ff3f85"
      },
      "source": [
        "list_b = [111,'c','งองมาก',aaa]\r\n",
        "print(list_b)"
      ],
      "execution_count": 99,
      "outputs": [
        {
          "output_type": "stream",
          "text": [
            "[111, 'c', 'งองมาก', 1092]\n"
          ],
          "name": "stdout"
        }
      ]
    },
    {
      "cell_type": "markdown",
      "metadata": {
        "id": "CiNnNXD_YN1z"
      },
      "source": [
        "**ลำดับที่อยู่ใน list มีความสำคัญ (ลำดับใน list เริ่มจาก 0,1,2,...)**"
      ]
    },
    {
      "cell_type": "code",
      "metadata": {
        "colab": {
          "base_uri": "https://localhost:8080/"
        },
        "id": "4I7Q3J9iplgn",
        "outputId": "af42b265-2b8e-4b9c-da83-51a03dcd1e35"
      },
      "source": [
        "list_b[3] # เริ่มนับตัวแรกจาก 0 ลำดับ คือความสำคัญของ list"
      ],
      "execution_count": 100,
      "outputs": [
        {
          "output_type": "execute_result",
          "data": {
            "text/plain": [
              "1092"
            ]
          },
          "metadata": {
            "tags": []
          },
          "execution_count": 100
        }
      ]
    },
    {
      "cell_type": "code",
      "metadata": {
        "colab": {
          "base_uri": "https://localhost:8080/",
          "height": 35
        },
        "id": "OPQuObRrq9Ui",
        "outputId": "75094843-4a1a-4a5b-8455-6e98199cc459"
      },
      "source": [
        "list_b[2]"
      ],
      "execution_count": 101,
      "outputs": [
        {
          "output_type": "execute_result",
          "data": {
            "application/vnd.google.colaboratory.intrinsic+json": {
              "type": "string"
            },
            "text/plain": [
              "'งองมาก'"
            ]
          },
          "metadata": {
            "tags": []
          },
          "execution_count": 101
        }
      ]
    },
    {
      "cell_type": "markdown",
      "metadata": {
        "id": "rCuKUJGcrCvN"
      },
      "source": [
        "แบบที่2"
      ]
    },
    {
      "cell_type": "code",
      "metadata": {
        "colab": {
          "base_uri": "https://localhost:8080/"
        },
        "id": "HT6XtSR2rMbz",
        "outputId": "904ad12e-fbcb-443c-b5f9-f6dc45fd666b"
      },
      "source": [
        "list_c = list()\r\n",
        "print(list_c)"
      ],
      "execution_count": 102,
      "outputs": [
        {
          "output_type": "stream",
          "text": [
            "[]\n"
          ],
          "name": "stdout"
        }
      ]
    },
    {
      "cell_type": "markdown",
      "metadata": {
        "id": "60N6KxsErQXB"
      },
      "source": [
        "append() เพิ่มสมาชิกใน list"
      ]
    },
    {
      "cell_type": "code",
      "metadata": {
        "colab": {
          "base_uri": "https://localhost:8080/"
        },
        "id": "PKyekNbTrPr7",
        "outputId": "78686ac5-89df-44c7-9050-a479eba26a4f"
      },
      "source": [
        "list_b.append('u') \r\n",
        "print(list_b)   # เพิ่มสมาชิก u เข้าไปใน list จะไปอยู่ลำดับสุดท้าย"
      ],
      "execution_count": 103,
      "outputs": [
        {
          "output_type": "stream",
          "text": [
            "[111, 'c', 'งองมาก', 1092, 'u']\n"
          ],
          "name": "stdout"
        }
      ]
    },
    {
      "cell_type": "markdown",
      "metadata": {
        "id": "tMSv0wAHr5wI"
      },
      "source": [
        "0 คือสามาชิกตัวแรก , -1 คือสมาชิกตัวสุดท้าย"
      ]
    },
    {
      "cell_type": "code",
      "metadata": {
        "colab": {
          "base_uri": "https://localhost:8080/",
          "height": 35
        },
        "id": "1s2bzxcPr_ok",
        "outputId": "5b8c2c6f-04f4-4d79-f855-b2e094262b6d"
      },
      "source": [
        "list_b[-3]   # ตัวที่อยู่ในวงเล็บหลังจากตัวแปร list เรียกว่า index ใช้สำหรับบอกข้อมูลใน list "
      ],
      "execution_count": 104,
      "outputs": [
        {
          "output_type": "execute_result",
          "data": {
            "application/vnd.google.colaboratory.intrinsic+json": {
              "type": "string"
            },
            "text/plain": [
              "'งองมาก'"
            ]
          },
          "metadata": {
            "tags": []
          },
          "execution_count": 104
        }
      ]
    },
    {
      "cell_type": "markdown",
      "metadata": {
        "id": "yo97NZznZjWj"
      },
      "source": [
        "## String > list of characters"
      ]
    },
    {
      "cell_type": "code",
      "metadata": {
        "colab": {
          "base_uri": "https://localhost:8080/"
        },
        "id": "ZQmHV89XYNPY",
        "outputId": "e15524c8-9535-464b-d0e7-7e5c093e9e97"
      },
      "source": [
        "t = 'python is easy'\r\n",
        "print(t)"
      ],
      "execution_count": 105,
      "outputs": [
        {
          "output_type": "stream",
          "text": [
            "python is easy\n"
          ],
          "name": "stdout"
        }
      ]
    },
    {
      "cell_type": "code",
      "metadata": {
        "colab": {
          "base_uri": "https://localhost:8080/",
          "height": 35
        },
        "id": "lYp1zmS2YNR0",
        "outputId": "efe4b160-1819-4a48-c45b-9983654d95cc"
      },
      "source": [
        "t[1]"
      ],
      "execution_count": 106,
      "outputs": [
        {
          "output_type": "execute_result",
          "data": {
            "application/vnd.google.colaboratory.intrinsic+json": {
              "type": "string"
            },
            "text/plain": [
              "'y'"
            ]
          },
          "metadata": {
            "tags": []
          },
          "execution_count": 106
        }
      ]
    },
    {
      "cell_type": "code",
      "metadata": {
        "colab": {
          "base_uri": "https://localhost:8080/",
          "height": 35
        },
        "id": "Dtj1OlZrYNUV",
        "outputId": "d54f8c36-b612-4f92-a32f-4c0e0ab53d1b"
      },
      "source": [
        "t[-4]"
      ],
      "execution_count": 107,
      "outputs": [
        {
          "output_type": "execute_result",
          "data": {
            "application/vnd.google.colaboratory.intrinsic+json": {
              "type": "string"
            },
            "text/plain": [
              "'e'"
            ]
          },
          "metadata": {
            "tags": []
          },
          "execution_count": 107
        }
      ]
    },
    {
      "cell_type": "code",
      "metadata": {
        "colab": {
          "base_uri": "https://localhost:8080/",
          "height": 35
        },
        "id": "I99VGp0jYNWq",
        "outputId": "6e0ca5fb-cb72-4b30-c6bf-89c078fa6110"
      },
      "source": [
        "t[6]"
      ],
      "execution_count": 108,
      "outputs": [
        {
          "output_type": "execute_result",
          "data": {
            "application/vnd.google.colaboratory.intrinsic+json": {
              "type": "string"
            },
            "text/plain": [
              "' '"
            ]
          },
          "metadata": {
            "tags": []
          },
          "execution_count": 108
        }
      ]
    },
    {
      "cell_type": "markdown",
      "metadata": {
        "id": "HTEq90Gdipzr"
      },
      "source": [
        "คาบที่ 3 \\ 11 ม.ค. 2021"
      ]
    },
    {
      "cell_type": "code",
      "metadata": {
        "id": "Xou-gZIQaISo",
        "colab": {
          "base_uri": "https://localhost:8080/"
        },
        "outputId": "b5c59073-e65d-4380-f6b8-69a8bad65a3b"
      },
      "source": [
        "len(t)"
      ],
      "execution_count": 109,
      "outputs": [
        {
          "output_type": "execute_result",
          "data": {
            "text/plain": [
              "14"
            ]
          },
          "metadata": {
            "tags": []
          },
          "execution_count": 109
        }
      ]
    },
    {
      "cell_type": "code",
      "metadata": {
        "id": "c_prAZBIizyh",
        "colab": {
          "base_uri": "https://localhost:8080/"
        },
        "outputId": "3ca519eb-f850-463d-b52b-4d19a04b612c"
      },
      "source": [
        "len(list_b) # len คือคำสั่งตรวจสอบความยาวของ list (จำนวนสมาชิก)"
      ],
      "execution_count": 110,
      "outputs": [
        {
          "output_type": "execute_result",
          "data": {
            "text/plain": [
              "5"
            ]
          },
          "metadata": {
            "tags": []
          },
          "execution_count": 110
        }
      ]
    },
    {
      "cell_type": "markdown",
      "metadata": {
        "id": "-NONLScZlbqM"
      },
      "source": [
        "#ตัวที่อยู่ข้างใน [ ] เราเรียกว่า index (ตัวชี้)"
      ]
    },
    {
      "cell_type": "markdown",
      "metadata": {
        "id": "Ufd5wxFvl20o"
      },
      "source": [
        "### List slicing สามารถทำได้โดยใช้ colon : [a:b] => [a,b)"
      ]
    },
    {
      "cell_type": "code",
      "metadata": {
        "id": "YXf8BgIfi_n8",
        "colab": {
          "base_uri": "https://localhost:8080/"
        },
        "outputId": "78c1c335-3fe0-4231-cd75-3a36d72cf212"
      },
      "source": [
        "print(t)\r\n",
        "print(t[7:9])  # เอาแค่ 7,8 แต่ 9 ไม่เอา\r\n",
        "print(len(t[7:9]))  "
      ],
      "execution_count": 111,
      "outputs": [
        {
          "output_type": "stream",
          "text": [
            "python is easy\n",
            "is\n",
            "2\n"
          ],
          "name": "stdout"
        }
      ]
    },
    {
      "cell_type": "code",
      "metadata": {
        "id": "xvD2uV7Gnppx",
        "colab": {
          "base_uri": "https://localhost:8080/",
          "height": 35
        },
        "outputId": "8dccdd02-22cc-4ad4-9dea-c7e9d7965fdc"
      },
      "source": [
        "t[0:14:2]  # เลข 2 ตัวสุดท้าย หมายถึง จะกระโดดเลือกตัวที่ 2 จากตัวแรก ไปเรื่อยๆ"
      ],
      "execution_count": 112,
      "outputs": [
        {
          "output_type": "execute_result",
          "data": {
            "application/vnd.google.colaboratory.intrinsic+json": {
              "type": "string"
            },
            "text/plain": [
              "'pto ses'"
            ]
          },
          "metadata": {
            "tags": []
          },
          "execution_count": 112
        }
      ]
    },
    {
      "cell_type": "code",
      "metadata": {
        "id": "q23xJs4IoQ8D"
      },
      "source": [
        "z = [1,2,3,4,5,6,7,8,9,10]"
      ],
      "execution_count": 113,
      "outputs": []
    },
    {
      "cell_type": "markdown",
      "metadata": {
        "id": "He0S1FvRoYAz"
      },
      "source": [
        "### QUIZ\r\n",
        "ให้ใช้  list slicing เลือกมาเฉพาะเลขคู่"
      ]
    },
    {
      "cell_type": "code",
      "metadata": {
        "id": "5i3nZ6Xeokff",
        "colab": {
          "base_uri": "https://localhost:8080/"
        },
        "outputId": "6d2e4612-0180-4baa-8351-f6f660327582"
      },
      "source": [
        "print(z[1:10:2])  ## ตัวแรก : ให้เริ่มตัวที่ 1 , ตัวที่สอง : คือถึงตัวที่สิบ , "
      ],
      "execution_count": 114,
      "outputs": [
        {
          "output_type": "stream",
          "text": [
            "[2, 4, 6, 8, 10]\n"
          ],
          "name": "stdout"
        }
      ]
    },
    {
      "cell_type": "markdown",
      "metadata": {
        "id": "emspTk_em1z1"
      },
      "source": [
        "ถ้าเว้นว่างหน้า : เริ่มตั้งแต่ตัวแรก (0)\r\n",
        "\r\n",
        "ถ้าเว้นว่างหลัง : ไปจนถึงตัวสุดท้าย (len(list))"
      ]
    },
    {
      "cell_type": "code",
      "metadata": {
        "id": "orrPT3bLi_k5",
        "colab": {
          "base_uri": "https://localhost:8080/"
        },
        "outputId": "7c76e46d-3bae-441a-bec1-58312d1b94c6"
      },
      "source": [
        "print(t)\r\n",
        "print(t[:6]) # เอาตั้งแต่ตัวที่ 0 ถึงตัวที่ 6\r\n",
        "print(t[10:]) # เอาตั้งแต่ตัวที่ 10 จนถึงตัวสุดท้าย\r\n",
        "print(t[-4:]) # นับจากตัวด้านหลังมา 4 ตัว\r\n",
        "print(t[:])"
      ],
      "execution_count": 115,
      "outputs": [
        {
          "output_type": "stream",
          "text": [
            "python is easy\n",
            "python\n",
            "easy\n",
            "easy\n",
            "python is easy\n"
          ],
          "name": "stdout"
        }
      ]
    },
    {
      "cell_type": "code",
      "metadata": {
        "id": "64JYc_Hxi_Kt",
        "colab": {
          "base_uri": "https://localhost:8080/"
        },
        "outputId": "e5d8a465-d224-4818-967b-649c59625550"
      },
      "source": [
        "print(z[::2])  # เริ่มตั้งแต่ ตัวที่ 0 ไปจนถึงตัวที่ 10 แล้วเริ่มเอาตัวที่สองไปเรื่อยๆจาก 0,'1',2,'3',4,'5',..."
      ],
      "execution_count": 116,
      "outputs": [
        {
          "output_type": "stream",
          "text": [
            "[1, 3, 5, 7, 9]\n"
          ],
          "name": "stdout"
        }
      ]
    },
    {
      "cell_type": "markdown",
      "metadata": {
        "id": "kmgu2l5er8Lc"
      },
      "source": [
        "### เราสามารถเอา list มาต่อกันได้ด้วย +"
      ]
    },
    {
      "cell_type": "code",
      "metadata": {
        "id": "FxI6NK1_i_Hg",
        "colab": {
          "base_uri": "https://localhost:8080/",
          "height": 35
        },
        "outputId": "cc8120c5-b3f4-4227-f17e-2d088828187f"
      },
      "source": [
        "t + \"??\""
      ],
      "execution_count": 117,
      "outputs": [
        {
          "output_type": "execute_result",
          "data": {
            "application/vnd.google.colaboratory.intrinsic+json": {
              "type": "string"
            },
            "text/plain": [
              "'python is easy??'"
            ]
          },
          "metadata": {
            "tags": []
          },
          "execution_count": 117
        }
      ]
    },
    {
      "cell_type": "code",
      "metadata": {
        "id": "hcpWxmBRi_ET",
        "colab": {
          "base_uri": "https://localhost:8080/",
          "height": 163
        },
        "outputId": "02db4131-71ee-4982-83e2-21690c48a4e1"
      },
      "source": [
        "t + list_b  # ไม่สามารถเอา list ปกติมาต่อกันกับ string ได้"
      ],
      "execution_count": 118,
      "outputs": [
        {
          "output_type": "error",
          "ename": "TypeError",
          "evalue": "ignored",
          "traceback": [
            "\u001b[0;31m---------------------------------------------------------------------------\u001b[0m",
            "\u001b[0;31mTypeError\u001b[0m                                 Traceback (most recent call last)",
            "\u001b[0;32m<ipython-input-118-7ea9139603c6>\u001b[0m in \u001b[0;36m<module>\u001b[0;34m()\u001b[0m\n\u001b[0;32m----> 1\u001b[0;31m \u001b[0mt\u001b[0m \u001b[0;34m+\u001b[0m \u001b[0mlist_b\u001b[0m  \u001b[0;31m# ไม่สามารถเอา list ปกติมาต่อกันกับ string ได้\u001b[0m\u001b[0;34m\u001b[0m\u001b[0;34m\u001b[0m\u001b[0m\n\u001b[0m",
            "\u001b[0;31mTypeError\u001b[0m: must be str, not list"
          ]
        }
      ]
    },
    {
      "cell_type": "code",
      "metadata": {
        "id": "g2DvYbpTi_B4",
        "colab": {
          "base_uri": "https://localhost:8080/"
        },
        "outputId": "84194ab4-ff67-4fdf-99c3-0da55874b525"
      },
      "source": [
        "print(list_a)\r\n",
        "list_b = [111,'c','งองมาก',aaa]\r\n",
        "print(list_b)\r\n",
        "print(list_b + list_a)  ## บวกคือ เอาสมาชิกมารวมกัน\r\n"
      ],
      "execution_count": 120,
      "outputs": [
        {
          "output_type": "stream",
          "text": [
            "[]\n",
            "[111, 'c', 'งองมาก', 1092]\n",
            "[111, 'c', 'งองมาก', 1092]\n"
          ],
          "name": "stdout"
        }
      ]
    },
    {
      "cell_type": "code",
      "metadata": {
        "id": "hMkcp5Boi--T",
        "colab": {
          "base_uri": "https://localhost:8080/"
        },
        "outputId": "b59013a2-31e9-45f3-e5ab-7151c0256a22"
      },
      "source": [
        "list_b.append(list_a)\r\n",
        "print(list_b)"
      ],
      "execution_count": 121,
      "outputs": [
        {
          "output_type": "stream",
          "text": [
            "[111, 'c', 'งองมาก', 1092, []]\n"
          ],
          "name": "stdout"
        }
      ]
    },
    {
      "cell_type": "markdown",
      "metadata": {
        "id": "0S-DyChguHJY"
      },
      "source": [
        "## การแบ่ง string ตามสัญลักษณ์ที่กำหนด --> split string"
      ]
    },
    {
      "cell_type": "code",
      "metadata": {
        "id": "jafHK0I1i-7X",
        "colab": {
          "base_uri": "https://localhost:8080/",
          "height": 35
        },
        "outputId": "6b5fec3e-677a-4ca4-9e6c-a97bb43cf1da"
      },
      "source": [
        "t"
      ],
      "execution_count": 122,
      "outputs": [
        {
          "output_type": "execute_result",
          "data": {
            "application/vnd.google.colaboratory.intrinsic+json": {
              "type": "string"
            },
            "text/plain": [
              "'python is easy'"
            ]
          },
          "metadata": {
            "tags": []
          },
          "execution_count": 122
        }
      ]
    },
    {
      "cell_type": "code",
      "metadata": {
        "id": "JLl2F2wEuG3A",
        "colab": {
          "base_uri": "https://localhost:8080/"
        },
        "outputId": "0e0187ec-c87d-448e-92b7-bd256b0f6a41"
      },
      "source": [
        "t.split(' ') # การแบ่ง string ด้วยช่องว่าง ' ' "
      ],
      "execution_count": 123,
      "outputs": [
        {
          "output_type": "execute_result",
          "data": {
            "text/plain": [
              "['python', 'is', 'easy']"
            ]
          },
          "metadata": {
            "tags": []
          },
          "execution_count": 123
        }
      ]
    },
    {
      "cell_type": "code",
      "metadata": {
        "id": "KSflUqcYuGx7"
      },
      "source": [
        "time = '12:30:15'"
      ],
      "execution_count": 124,
      "outputs": []
    },
    {
      "cell_type": "code",
      "metadata": {
        "id": "oraCkSORuGvE",
        "colab": {
          "base_uri": "https://localhost:8080/"
        },
        "outputId": "7639cea6-1f8c-4405-b233-0b7d3669fd78"
      },
      "source": [
        "time.split(':') # แบ่งด้วย ':' "
      ],
      "execution_count": 125,
      "outputs": [
        {
          "output_type": "execute_result",
          "data": {
            "text/plain": [
              "['12', '30', '15']"
            ]
          },
          "metadata": {
            "tags": []
          },
          "execution_count": 125
        }
      ]
    },
    {
      "cell_type": "code",
      "metadata": {
        "id": "joidVtV4vVol",
        "colab": {
          "base_uri": "https://localhost:8080/"
        },
        "outputId": "f8f9290a-b115-4569-cf2a-06b3e613d259"
      },
      "source": [
        "t_sp = t.split(' ')\r\n",
        "print(t_sp)"
      ],
      "execution_count": 126,
      "outputs": [
        {
          "output_type": "stream",
          "text": [
            "['python', 'is', 'easy']\n"
          ],
          "name": "stdout"
        }
      ]
    },
    {
      "cell_type": "code",
      "metadata": {
        "id": "WcrMq7v-uGo6",
        "colab": {
          "base_uri": "https://localhost:8080/"
        },
        "outputId": "4ead96f5-db9d-4bba-adab-066992cce3ab"
      },
      "source": [
        "## วิธีการรวมกลับ\r\n",
        "print(':'.join(t_sp))"
      ],
      "execution_count": 127,
      "outputs": [
        {
          "output_type": "stream",
          "text": [
            "python:is:easy\n"
          ],
          "name": "stdout"
        }
      ]
    },
    {
      "cell_type": "markdown",
      "metadata": {
        "id": "FIqP1uQMvkFM"
      },
      "source": [
        "## HW คำนวณเวลาเป็นวินาทีของเวลาต่อไปนี้ โดยใช้คำสั่ง split() ช่วย (print ออกมาให้สวยงาม)\r\n",
        "\r\n",
        "12:30:15\r\n",
        "\r\n",
        "13:41:07\r\n",
        "\r\n",
        "12:53:15\r\n",
        "\r\n",
        "00:59:25\r\n",
        "\r\n",
        "11:11:11\r\n",
        "\r\n",
        "16:06:09\r\n",
        "\r\n",
        "21:12:30\r\n",
        "\r\n",
        "10:06:15\r\n",
        "\r\n",
        "ตัวอย่าง >>> 00:01:10 = 70 วินาที \r\n",
        "\r\n",
        "ตัวอย่าง >>> 01:00:01 = 3601 วินาที\r\n"
      ]
    },
    {
      "cell_type": "code",
      "metadata": {
        "id": "zVfWiMOvuGmI",
        "colab": {
          "base_uri": "https://localhost:8080/"
        },
        "outputId": "15ca03ad-2cdf-402c-a06f-08dd207ff742"
      },
      "source": [
        "q1 = '12:30:15'\r\n",
        "#code .....\r\n",
        "#code ...\r\n",
        "\r\n",
        "#code ...\r\n",
        "print()"
      ],
      "execution_count": 128,
      "outputs": [
        {
          "output_type": "stream",
          "text": [
            "\n"
          ],
          "name": "stdout"
        }
      ]
    },
    {
      "cell_type": "code",
      "metadata": {
        "id": "24mm7TDkO2SL"
      },
      "source": [
        "q1 = '12:30:15'"
      ],
      "execution_count": 140,
      "outputs": []
    },
    {
      "cell_type": "code",
      "metadata": {
        "id": "Fh2peUjoO2On",
        "outputId": "8b1496ef-9082-4e3f-c234-703efd16069e",
        "colab": {
          "base_uri": "https://localhost:8080/"
        }
      },
      "source": [
        "q1_sp = q1.split(':')\r\n",
        "print(q1_sp)"
      ],
      "execution_count": 142,
      "outputs": [
        {
          "output_type": "stream",
          "text": [
            "['12', '30', '15']\n"
          ],
          "name": "stdout"
        }
      ]
    },
    {
      "cell_type": "code",
      "metadata": {
        "id": "wQBq1fi_O2IU",
        "outputId": "369495e5-cdec-47e4-ca6b-232d05681356",
        "colab": {
          "base_uri": "https://localhost:8080/"
        }
      },
      "source": [
        "Ans = int(q1_sp[0])*3600 + int(q1_sp[1])*60 + int(q1_sp[2])\r\n",
        "print(Ans,\"วินาที\")"
      ],
      "execution_count": 145,
      "outputs": [
        {
          "output_type": "stream",
          "text": [
            "45015 วินาที\n"
          ],
          "name": "stdout"
        }
      ]
    },
    {
      "cell_type": "code",
      "metadata": {
        "id": "6TIkiPWcO2Fg"
      },
      "source": [
        ""
      ],
      "execution_count": 129,
      "outputs": []
    },
    {
      "cell_type": "code",
      "metadata": {
        "id": "l6yA9p0QuGg_",
        "colab": {
          "base_uri": "https://localhost:8080/"
        },
        "outputId": "fadf9ea3-7af2-4a3f-cbb6-661a682bc393"
      },
      "source": [
        "q1 = '12:30:15'\r\n",
        "q1_sp = q1.split(':')\r\n",
        "h = int(q1_sp[0])*60*60  # 12 ชั่วโมง มี 43200 วินาที\r\n",
        "m = int(q1_sp[1])*60  # 30 นาที มี 1800 วินาที\r\n",
        "s = int(q1_sp[2])  # มี 15 วินาที\r\n",
        "Ans = h+m+s\r\n",
        "print(Ans,\"วินาที\")"
      ],
      "execution_count": 146,
      "outputs": [
        {
          "output_type": "stream",
          "text": [
            "45015 วินาที\n"
          ],
          "name": "stdout"
        }
      ]
    },
    {
      "cell_type": "code",
      "metadata": {
        "id": "xwUZXBHhuGeD",
        "colab": {
          "base_uri": "https://localhost:8080/"
        },
        "outputId": "25f2d544-7f2f-4dfb-c7b0-9041d0036a46"
      },
      "source": [
        "q2 ='13:41:07'\r\n",
        "q2.split(':')\r\n",
        "list_q2= [13,41,7]\r\n",
        "h=list_q2[0]*60*60    \r\n",
        "m=list_q2[1]*60   \r\n",
        "s=list_q2[2]  \r\n",
        "Ans = h+m+s\r\n",
        "print(Ans,\"วินาที\")"
      ],
      "execution_count": 149,
      "outputs": [
        {
          "output_type": "stream",
          "text": [
            "49267 วินาที\n"
          ],
          "name": "stdout"
        }
      ]
    },
    {
      "cell_type": "code",
      "metadata": {
        "id": "FvsJ3zVsi-47",
        "colab": {
          "base_uri": "https://localhost:8080/"
        },
        "outputId": "4d1ce570-60c7-4749-fa50-6368c682cf06"
      },
      "source": [
        "q3 ='12:53:15'\r\n",
        "q3.split(':')\r\n",
        "list_q3= [12,53,15]\r\n",
        "h=list_q3[0]*60*60    \r\n",
        "m=list_q3[1]*60   \r\n",
        "s=list_q3[2]   \r\n",
        "Ans = h+m+s\r\n",
        "print(Ans,\"วินาที\")"
      ],
      "execution_count": 132,
      "outputs": [
        {
          "output_type": "stream",
          "text": [
            "46395 วินาที\n"
          ],
          "name": "stdout"
        }
      ]
    },
    {
      "cell_type": "code",
      "metadata": {
        "id": "TtljqZg49Oc8",
        "colab": {
          "base_uri": "https://localhost:8080/"
        },
        "outputId": "3ec4ff32-921f-4e07-9e31-2d9c52bc8335"
      },
      "source": [
        "q4 ='00:59:25'\r\n",
        "q4.split(':')\r\n",
        "list_q4= [00,59,25]\r\n",
        "h=list_q4[0]*60*60    \r\n",
        "m=list_q4[1]*60   \r\n",
        "s=list_q4[2]   \r\n",
        "Ans = h+m+s\r\n",
        "print(Ans,\"วินาที\")"
      ],
      "execution_count": 133,
      "outputs": [
        {
          "output_type": "stream",
          "text": [
            "3565 วินาที\n"
          ],
          "name": "stdout"
        }
      ]
    },
    {
      "cell_type": "code",
      "metadata": {
        "id": "v6X2srj_9Ogj",
        "colab": {
          "base_uri": "https://localhost:8080/"
        },
        "outputId": "fc98cbd5-2a69-49d2-e06b-4c21f1065669"
      },
      "source": [
        "q5 ='11:11:11'\r\n",
        "q5.split(':')\r\n",
        "list_q5= [11,11,11]\r\n",
        "h=list_q5[0]*60*60    \r\n",
        "m=list_q5[1]*60   \r\n",
        "s=list_q5[2]   \r\n",
        "Ans = h+m+s\r\n",
        "print(Ans,\"วินาที\")"
      ],
      "execution_count": 134,
      "outputs": [
        {
          "output_type": "stream",
          "text": [
            "40271 วินาที\n"
          ],
          "name": "stdout"
        }
      ]
    },
    {
      "cell_type": "code",
      "metadata": {
        "id": "KgHIqlnv9OjX",
        "colab": {
          "base_uri": "https://localhost:8080/"
        },
        "outputId": "b5d9058e-70eb-4d43-b048-9c78674bb247"
      },
      "source": [
        "q6 ='16:06:09'\r\n",
        "q6.split(':')\r\n",
        "list_q6= [16,6,9]\r\n",
        "h=list_q6[0]*60*60    \r\n",
        "m=list_q6[1]*60   \r\n",
        "s=list_q6[2]   \r\n",
        "Ans = h+m+s\r\n",
        "print(Ans,\"วินาที\")"
      ],
      "execution_count": 135,
      "outputs": [
        {
          "output_type": "stream",
          "text": [
            "57969 วินาที\n"
          ],
          "name": "stdout"
        }
      ]
    },
    {
      "cell_type": "code",
      "metadata": {
        "id": "Msi0GhLo9Olz",
        "outputId": "70cfdfc9-4857-4697-b679-88019abf5c50",
        "colab": {
          "base_uri": "https://localhost:8080/"
        }
      },
      "source": [
        "q7 ='21:12:30'\r\n",
        "q7.split(':')\r\n",
        "list_q7= [21,12,30]\r\n",
        "h=list_q7[0]*60*60    \r\n",
        "m=list_q7[1]*60   \r\n",
        "s=list_q7[2]   \r\n",
        "Ans_q7 = h+m+s\r\n",
        "print(Ans_q7)"
      ],
      "execution_count": 136,
      "outputs": [
        {
          "output_type": "stream",
          "text": [
            "76350\n"
          ],
          "name": "stdout"
        }
      ]
    },
    {
      "cell_type": "code",
      "metadata": {
        "id": "KZOL1u129OoH",
        "colab": {
          "base_uri": "https://localhost:8080/"
        },
        "outputId": "e023535f-022a-40e2-8545-9e11b086b2a3"
      },
      "source": [
        "q8 ='10:06:15'\r\n",
        "q8.split(':')\r\n",
        "list_q8= [10,6,15]\r\n",
        "h=list_q8[0]*60*60    \r\n",
        "m=list_q8[1]*60   \r\n",
        "s=list_q8[2]   \r\n",
        "Ans = h+m+s\r\n",
        "print(Ans,\"วินาที\")"
      ],
      "execution_count": 137,
      "outputs": [
        {
          "output_type": "stream",
          "text": [
            "36375 วินาที\n"
          ],
          "name": "stdout"
        }
      ]
    },
    {
      "cell_type": "code",
      "metadata": {
        "id": "-1Ip-KmG9O4J"
      },
      "source": [
        ""
      ],
      "execution_count": 137,
      "outputs": []
    },
    {
      "cell_type": "code",
      "metadata": {
        "id": "I7U_j4g39O7j"
      },
      "source": [
        ""
      ],
      "execution_count": 137,
      "outputs": []
    },
    {
      "cell_type": "code",
      "metadata": {
        "id": "kvRVBste9O_f"
      },
      "source": [
        ""
      ],
      "execution_count": 137,
      "outputs": []
    },
    {
      "cell_type": "code",
      "metadata": {
        "id": "MrUgpw0x9PDj"
      },
      "source": [
        ""
      ],
      "execution_count": 137,
      "outputs": []
    }
  ]
}