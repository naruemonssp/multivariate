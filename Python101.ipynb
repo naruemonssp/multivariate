{
  "nbformat": 4,
  "nbformat_minor": 0,
  "metadata": {
    "colab": {
      "name": "Python101.ipynb",
      "provenance": [],
      "collapsed_sections": [],
      "authorship_tag": "ABX9TyOaRVchzbq2IXwWZZ4U5mei",
      "include_colab_link": true
    },
    "kernelspec": {
      "name": "python3",
      "display_name": "Python 3"
    }
  },
  "cells": [
    {
      "cell_type": "markdown",
      "metadata": {
        "id": "view-in-github",
        "colab_type": "text"
      },
      "source": [
        "<a href=\"https://colab.research.google.com/github/naruemonssp/multivariate/blob/main/Python101.ipynb\" target=\"_parent\"><img src=\"https://colab.research.google.com/assets/colab-badge.svg\" alt=\"Open In Colab\"/></a>"
      ]
    },
    {
      "cell_type": "markdown",
      "metadata": {
        "id": "YzMcC9ZZLjZ-"
      },
      "source": [
        "ตัวแปร variable"
      ]
    },
    {
      "cell_type": "markdown",
      "metadata": {
        "id": "Sri-Pf2dL7z1"
      },
      "source": [
        "หลักการตั้งชื่อตัวแปร\r\n",
        "\r\n",
        "1.   ตั้งให้สื่อ\r\n",
        "2.   ภาษาอังกฤษ\r\n",
        "3.   ใช้ตัวเลขได้ห้ามขึ้นต้นด้วยเลข\r\n",
        "4.   ห้ามเว้นวรรค\r\n",
        "5.   ตัวเล็กกับตัวใหญ่ไม่เหมือนกัน\r\n",
        "\r\n",
        "มี output 2 mode : ออกหน้าจอ กับ เข้าไปเก็บในตัวแปร\r\n",
        "\r\n"
      ]
    },
    {
      "cell_type": "code",
      "metadata": {
        "colab": {
          "base_uri": "https://localhost:8080/"
        },
        "id": "LNjDr6LLJ9Oq",
        "outputId": "0f391960-efad-4f90-de6a-af985779de53"
      },
      "source": [
        "3.14159  # <<เครื่องหมายนี้คือการคอมเม้น >>> output ออกหน้าจอ"
      ],
      "execution_count": 1,
      "outputs": [
        {
          "output_type": "execute_result",
          "data": {
            "text/plain": [
              "3.14159"
            ]
          },
          "metadata": {
            "tags": []
          },
          "execution_count": 1
        }
      ]
    },
    {
      "cell_type": "code",
      "metadata": {
        "id": "jZAfRW7DLzoX"
      },
      "source": [
        "Pi=3.14159 # output ที่เข้าไปอยู่ในตัวแปร"
      ],
      "execution_count": 2,
      "outputs": []
    },
    {
      "cell_type": "code",
      "metadata": {
        "colab": {
          "base_uri": "https://localhost:8080/"
        },
        "id": "M8vE038XLzrH",
        "outputId": "d25b8f4b-0ca0-4c61-d03d-9ff7e988bbda"
      },
      "source": [
        "Pi"
      ],
      "execution_count": 3,
      "outputs": [
        {
          "output_type": "execute_result",
          "data": {
            "text/plain": [
              "3.14159"
            ]
          },
          "metadata": {
            "tags": []
          },
          "execution_count": 3
        }
      ]
    },
    {
      "cell_type": "code",
      "metadata": {
        "colab": {
          "base_uri": "https://localhost:8080/"
        },
        "id": "Dv3wNPxQLzt6",
        "outputId": "5e5ab191-80ec-48ec-b50b-7f08a03683c3"
      },
      "source": [
        "a = 1234567\r\n",
        "print(a)"
      ],
      "execution_count": 4,
      "outputs": [
        {
          "output_type": "stream",
          "text": [
            "1234567\n"
          ],
          "name": "stdout"
        }
      ]
    },
    {
      "cell_type": "code",
      "metadata": {
        "colab": {
          "base_uri": "https://localhost:8080/"
        },
        "id": "lcM-ILttNNuy",
        "outputId": "cb6addcc-ac23-4e40-fac0-7b6bff968a92"
      },
      "source": [
        "a"
      ],
      "execution_count": 5,
      "outputs": [
        {
          "output_type": "execute_result",
          "data": {
            "text/plain": [
              "1234567"
            ]
          },
          "metadata": {
            "tags": []
          },
          "execution_count": 5
        }
      ]
    },
    {
      "cell_type": "markdown",
      "metadata": {
        "id": "0qWk7iD4NmrU"
      },
      "source": [
        "##**ชนิดของตัวแปร 3 ชนิด**\r\n",
        "\r\n",
        "### จำนวนเต็ม (integer,int)"
      ]
    },
    {
      "cell_type": "code",
      "metadata": {
        "colab": {
          "base_uri": "https://localhost:8080/"
        },
        "id": "AFdnsKLiNNxV",
        "outputId": "13dc297f-21e8-4f2c-9b9f-5cdc99a412ee"
      },
      "source": [
        "aaa = 1092\r\n",
        "print(aaa)"
      ],
      "execution_count": 6,
      "outputs": [
        {
          "output_type": "stream",
          "text": [
            "1092\n"
          ],
          "name": "stdout"
        }
      ]
    },
    {
      "cell_type": "markdown",
      "metadata": {
        "id": "ptErjsaTO0qZ"
      },
      "source": [
        "### จำนวนจริง (float)\r\n"
      ]
    },
    {
      "cell_type": "code",
      "metadata": {
        "colab": {
          "base_uri": "https://localhost:8080/"
        },
        "id": "h2bJNOniNZD9",
        "outputId": "5bcdcfb8-5fd5-4ee3-ab36-eab29230d60d"
      },
      "source": [
        "bbb = 11.\r\n",
        "print(bbb)"
      ],
      "execution_count": 7,
      "outputs": [
        {
          "output_type": "stream",
          "text": [
            "11.0\n"
          ],
          "name": "stdout"
        }
      ]
    },
    {
      "cell_type": "markdown",
      "metadata": {
        "id": "bSw8Yfc6PPcS"
      },
      "source": [
        "### ตัวอักษร-ข้อความ (character และ text,string)"
      ]
    },
    {
      "cell_type": "code",
      "metadata": {
        "colab": {
          "base_uri": "https://localhost:8080/"
        },
        "id": "hK9KP3chNZG2",
        "outputId": "9ea0aca2-cf42-48f6-dd83-6b0735be7dd5"
      },
      "source": [
        "ccc = '1234566'  #เราใช้ single quote ' หรือ double quote \" หน้าและหลังตัวหนังสือเพื่อระบุว่าเป็น character-string\r\n",
        "print(ccc)"
      ],
      "execution_count": 8,
      "outputs": [
        {
          "output_type": "stream",
          "text": [
            "1234566\n"
          ],
          "name": "stdout"
        }
      ]
    },
    {
      "cell_type": "markdown",
      "metadata": {
        "id": "Kmom96H2QAob"
      },
      "source": [
        "######ตัวแปร int + float บวกกันได้ = float\r\n",
        "######ตัวแปร int + char บวกกันไม่ได้ error\r\n",
        "######ตัวแปร float + char บวกกันไม่ได้ error"
      ]
    },
    {
      "cell_type": "code",
      "metadata": {
        "colab": {
          "base_uri": "https://localhost:8080/"
        },
        "id": "GJCcEj4sNZJV",
        "outputId": "fc3d3cec-a990-49a5-ddde-e6b6ac906983"
      },
      "source": [
        "ddd = \"naruemon\"\r\n",
        "print(ddd)"
      ],
      "execution_count": 9,
      "outputs": [
        {
          "output_type": "stream",
          "text": [
            "naruemon\n"
          ],
          "name": "stdout"
        }
      ]
    },
    {
      "cell_type": "code",
      "metadata": {
        "colab": {
          "base_uri": "https://localhost:8080/",
          "height": 35
        },
        "id": "YW7C3a_xNN0A",
        "outputId": "abc613e9-ef3f-4e95-9459-e5ebe4b48e06"
      },
      "source": [
        "ddd"
      ],
      "execution_count": 10,
      "outputs": [
        {
          "output_type": "execute_result",
          "data": {
            "application/vnd.google.colaboratory.intrinsic+json": {
              "type": "string"
            },
            "text/plain": [
              "'naruemon'"
            ]
          },
          "metadata": {
            "tags": []
          },
          "execution_count": 10
        }
      ]
    },
    {
      "cell_type": "markdown",
      "metadata": {
        "id": "FZTmzMIYQ0pi"
      },
      "source": [
        "# การเปลี่ยนชนิดของตัวแปร variable casting"
      ]
    },
    {
      "cell_type": "code",
      "metadata": {
        "colab": {
          "base_uri": "https://localhost:8080/"
        },
        "id": "7a12j1wmQxYX",
        "outputId": "0d4e2f5e-d6f2-425e-e42c-5704feb64991"
      },
      "source": [
        "aaa + int(ccc)"
      ],
      "execution_count": 11,
      "outputs": [
        {
          "output_type": "execute_result",
          "data": {
            "text/plain": [
              "1235658"
            ]
          },
          "metadata": {
            "tags": []
          },
          "execution_count": 11
        }
      ]
    },
    {
      "cell_type": "code",
      "metadata": {
        "colab": {
          "base_uri": "https://localhost:8080/"
        },
        "id": "o8m3pfjOQzym",
        "outputId": "eb671fd5-027e-4fe2-e4eb-603bdc211891"
      },
      "source": [
        "aaa + float(ccc)"
      ],
      "execution_count": 12,
      "outputs": [
        {
          "output_type": "execute_result",
          "data": {
            "text/plain": [
              "1235658.0"
            ]
          },
          "metadata": {
            "tags": []
          },
          "execution_count": 12
        }
      ]
    },
    {
      "cell_type": "code",
      "metadata": {
        "colab": {
          "base_uri": "https://localhost:8080/",
          "height": 35
        },
        "id": "uG_-_77nQz1T",
        "outputId": "bc62f292-667e-4eba-ea95-a8eee9c22e6e"
      },
      "source": [
        "str(aaa)  #ถ้าใส่ print ด้านหน้าด้วยจะดูไม่ออก เพราะจะแสดงค่าเฉยๆ"
      ],
      "execution_count": 13,
      "outputs": [
        {
          "output_type": "execute_result",
          "data": {
            "application/vnd.google.colaboratory.intrinsic+json": {
              "type": "string"
            },
            "text/plain": [
              "'1092'"
            ]
          },
          "metadata": {
            "tags": []
          },
          "execution_count": 13
        }
      ]
    },
    {
      "cell_type": "markdown",
      "metadata": {
        "id": "SIz7wAovSL8d"
      },
      "source": [
        "# การดำเนินการ operation (operators +,-,*,/,%)"
      ]
    },
    {
      "cell_type": "code",
      "metadata": {
        "colab": {
          "base_uri": "https://localhost:8080/",
          "height": 163
        },
        "id": "SRxOdA87Qz3i",
        "outputId": "88eb8f98-0536-42bb-f973-a6b0b8e5954a"
      },
      "source": [
        "a + b  # อ่าน error ให้อ่านบรรทัดสุดท้าย NameError"
      ],
      "execution_count": 14,
      "outputs": [
        {
          "output_type": "error",
          "ename": "NameError",
          "evalue": "ignored",
          "traceback": [
            "\u001b[0;31m---------------------------------------------------------------------------\u001b[0m",
            "\u001b[0;31mNameError\u001b[0m                                 Traceback (most recent call last)",
            "\u001b[0;32m<ipython-input-14-47aaaafe33ef>\u001b[0m in \u001b[0;36m<module>\u001b[0;34m()\u001b[0m\n\u001b[0;32m----> 1\u001b[0;31m \u001b[0ma\u001b[0m \u001b[0;34m+\u001b[0m \u001b[0mb\u001b[0m  \u001b[0;31m# อ่าน error ให้อ่านบรรทัดสุดท้าย NameError\u001b[0m\u001b[0;34m\u001b[0m\u001b[0;34m\u001b[0m\u001b[0m\n\u001b[0m",
            "\u001b[0;31mNameError\u001b[0m: name 'b' is not defined"
          ]
        }
      ]
    },
    {
      "cell_type": "code",
      "metadata": {
        "id": "nj05jvfkQz6g",
        "outputId": "9a545052-223e-456a-fc6a-c960830d7c8f",
        "colab": {
          "base_uri": "https://localhost:8080/"
        }
      },
      "source": [
        "aaa + bbb"
      ],
      "execution_count": 16,
      "outputs": [
        {
          "output_type": "execute_result",
          "data": {
            "text/plain": [
              "1103.0"
            ]
          },
          "metadata": {
            "tags": []
          },
          "execution_count": 16
        }
      ]
    },
    {
      "cell_type": "code",
      "metadata": {
        "colab": {
          "base_uri": "https://localhost:8080/"
        },
        "id": "63oL3BN1Qz8Y",
        "outputId": "0d90b95e-4f2f-4147-d629-28baa2e1220a"
      },
      "source": [
        "aaa - bbb"
      ],
      "execution_count": 17,
      "outputs": [
        {
          "output_type": "execute_result",
          "data": {
            "text/plain": [
              "1081.0"
            ]
          },
          "metadata": {
            "tags": []
          },
          "execution_count": 17
        }
      ]
    },
    {
      "cell_type": "code",
      "metadata": {
        "id": "fUFQl9mIQ0BG"
      },
      "source": [
        "ab = aaa*bbb"
      ],
      "execution_count": 18,
      "outputs": []
    },
    {
      "cell_type": "code",
      "metadata": {
        "colab": {
          "base_uri": "https://localhost:8080/"
        },
        "id": "UFYNF-l2Q0GW",
        "outputId": "a80be0ea-8b0e-4c78-92c4-ef9b33cfc86b"
      },
      "source": [
        "ab + int(ccc)"
      ],
      "execution_count": 19,
      "outputs": [
        {
          "output_type": "execute_result",
          "data": {
            "text/plain": [
              "1246578.0"
            ]
          },
          "metadata": {
            "tags": []
          },
          "execution_count": 19
        }
      ]
    },
    {
      "cell_type": "markdown",
      "metadata": {
        "id": "1Qmf9LGHTEvY"
      },
      "source": [
        "###% คือเครื่องหมาย modulo = หารเอาเศษ"
      ]
    },
    {
      "cell_type": "code",
      "metadata": {
        "colab": {
          "base_uri": "https://localhost:8080/"
        },
        "id": "QKn__RSJTC3b",
        "outputId": "d848d456-7b08-4ad2-ac4f-5aa8e0c3e359"
      },
      "source": [
        "5%2"
      ],
      "execution_count": 20,
      "outputs": [
        {
          "output_type": "execute_result",
          "data": {
            "text/plain": [
              "1"
            ]
          },
          "metadata": {
            "tags": []
          },
          "execution_count": 20
        }
      ]
    },
    {
      "cell_type": "code",
      "metadata": {
        "colab": {
          "base_uri": "https://localhost:8080/"
        },
        "id": "dnpOmyZITEEb",
        "outputId": "e8c4ac6f-4a42-4014-991e-6110547f17cc"
      },
      "source": [
        "14%2"
      ],
      "execution_count": 21,
      "outputs": [
        {
          "output_type": "execute_result",
          "data": {
            "text/plain": [
              "0"
            ]
          },
          "metadata": {
            "tags": []
          },
          "execution_count": 21
        }
      ]
    },
    {
      "cell_type": "markdown",
      "metadata": {
        "id": "1uGL7QazT31j"
      },
      "source": [
        "### คำสั่ง print แบบพิเศษ (การ format string)"
      ]
    },
    {
      "cell_type": "code",
      "metadata": {
        "colab": {
          "base_uri": "https://localhost:8080/"
        },
        "id": "n3tSog4tTEGz",
        "outputId": "a9475167-d85a-423b-b14b-bab6b3adb9c0"
      },
      "source": [
        "print('ตัวแปร') #สิ่งที่อยู่ข้างในวงเล็บคือ ตัวแปร และ string"
      ],
      "execution_count": 22,
      "outputs": [
        {
          "output_type": "stream",
          "text": [
            "ตัวแปร\n"
          ],
          "name": "stdout"
        }
      ]
    },
    {
      "cell_type": "code",
      "metadata": {
        "colab": {
          "base_uri": "https://localhost:8080/"
        },
        "id": "MNEgBPpiTEJZ",
        "outputId": "7400a6a1-352f-4a57-8f53-74e9fbab9413"
      },
      "source": [
        "print(f'% คือการหารเอาเศษ เช่น 7%3 = {7%3}')  #เพิ่ม f หน้า 'string' และใช้ {} ใส่ code"
      ],
      "execution_count": 23,
      "outputs": [
        {
          "output_type": "stream",
          "text": [
            "% คือการหารเอาเศษ เช่น 7%3 = 1\n"
          ],
          "name": "stdout"
        }
      ]
    },
    {
      "cell_type": "code",
      "metadata": {
        "id": "IVPbxnc3TELj"
      },
      "source": [
        "## \\\\ <<ตัวตัดโคด, \\n <<เริ่มบรรทัดใหม่ ให้โคดอ่านง่ายขึ้น"
      ],
      "execution_count": 24,
      "outputs": []
    },
    {
      "cell_type": "code",
      "metadata": {
        "colab": {
          "base_uri": "https://localhost:8080/"
        },
        "id": "nmp9rTClTEN8",
        "outputId": "4624349f-792d-48e9-e066-49c4bc91a44d"
      },
      "source": [
        "print(f'% คือการหารเอาเศษ เช่น 7%3 = {7%3} \\\r\n",
        "แต่ \\n/ คือการหารปกติ เช่น 7/3 = {7/3} \\\r\n",
        "และ \\n// คือการหารเอาส่วน เช่น 7//3 = {7//3} \\\r\n",
        "หรือ \\nใช้ int() เพื่อหารเอาส่วน เช่น int(7/3) = {int(7/3)}') "
      ],
      "execution_count": 25,
      "outputs": [
        {
          "output_type": "stream",
          "text": [
            "% คือการหารเอาเศษ เช่น 7%3 = 1 แต่ \n",
            "/ คือการหารปกติ เช่น 7/3 = 2.3333333333333335 และ \n",
            "// คือการหารเอาส่วน เช่น 7//3 = 2 หรือ \n",
            "ใช้ int() เพื่อหารเอาส่วน เช่น int(7/3) = 2\n"
          ],
          "name": "stdout"
        }
      ]
    },
    {
      "cell_type": "markdown",
      "metadata": {
        "id": "oHCFsEV9W-CO"
      },
      "source": [
        "# Data Structure (โครงสร้างข้อมูล)\r\n",
        "### List คือการเอาข้อมูลหลายๆตัวมาเรียงต่อกัน\r\n",
        "### list สามารถสร้างได้ 2 แบบ ดังนี้"
      ]
    },
    {
      "cell_type": "code",
      "metadata": {
        "colab": {
          "base_uri": "https://localhost:8080/"
        },
        "id": "mRZ_RxO-TERI",
        "outputId": "0349b2f4-1384-4586-a728-ddf2ebc1a807"
      },
      "source": [
        "[111,'c','งองมาก',aaa]"
      ],
      "execution_count": 26,
      "outputs": [
        {
          "output_type": "execute_result",
          "data": {
            "text/plain": [
              "[111, 'c', 'งองมาก', 1092]"
            ]
          },
          "metadata": {
            "tags": []
          },
          "execution_count": 26
        }
      ]
    },
    {
      "cell_type": "markdown",
      "metadata": {
        "id": "lAJalwZWXq1K"
      },
      "source": [
        "แบบที่ 1 > square brackets"
      ]
    },
    {
      "cell_type": "code",
      "metadata": {
        "colab": {
          "base_uri": "https://localhost:8080/"
        },
        "id": "j7ehAifITEUc",
        "outputId": "c0efc5f9-7d2d-497c-ea2c-4b6f5a8fde54"
      },
      "source": [
        "list_a = []\r\n",
        "print(list_a)"
      ],
      "execution_count": 27,
      "outputs": [
        {
          "output_type": "stream",
          "text": [
            "[]\n"
          ],
          "name": "stdout"
        }
      ]
    },
    {
      "cell_type": "code",
      "metadata": {
        "colab": {
          "base_uri": "https://localhost:8080/"
        },
        "id": "xi6NYvndTEWs",
        "outputId": "690646cd-3deb-442e-d8b5-effd45498fc0"
      },
      "source": [
        "list_b = [111,'c','งองมาก',aaa]\r\n",
        "print(list_b)"
      ],
      "execution_count": 28,
      "outputs": [
        {
          "output_type": "stream",
          "text": [
            "[111, 'c', 'งองมาก', 1092]\n"
          ],
          "name": "stdout"
        }
      ]
    },
    {
      "cell_type": "markdown",
      "metadata": {
        "id": "CiNnNXD_YN1z"
      },
      "source": [
        "**ลำดับที่อยู่ใน list มีความสำคัญ (ลำดับใน list เริ่มจาก 0,1,2,...)**"
      ]
    },
    {
      "cell_type": "code",
      "metadata": {
        "colab": {
          "base_uri": "https://localhost:8080/"
        },
        "id": "4I7Q3J9iplgn",
        "outputId": "f8e6ecd4-7d78-46c5-d6f4-b56d0b0edb99"
      },
      "source": [
        "list_b[3] # เริ่มนับตัวแรกจาก 0 ลำดับ คือความสำคัญของ list"
      ],
      "execution_count": 29,
      "outputs": [
        {
          "output_type": "execute_result",
          "data": {
            "text/plain": [
              "1092"
            ]
          },
          "metadata": {
            "tags": []
          },
          "execution_count": 29
        }
      ]
    },
    {
      "cell_type": "code",
      "metadata": {
        "colab": {
          "base_uri": "https://localhost:8080/",
          "height": 35
        },
        "id": "OPQuObRrq9Ui",
        "outputId": "cc221e59-8405-4273-fc1d-aeeec97070fd"
      },
      "source": [
        "list_b[2]"
      ],
      "execution_count": 30,
      "outputs": [
        {
          "output_type": "execute_result",
          "data": {
            "application/vnd.google.colaboratory.intrinsic+json": {
              "type": "string"
            },
            "text/plain": [
              "'งองมาก'"
            ]
          },
          "metadata": {
            "tags": []
          },
          "execution_count": 30
        }
      ]
    },
    {
      "cell_type": "markdown",
      "metadata": {
        "id": "rCuKUJGcrCvN"
      },
      "source": [
        "แบบที่2"
      ]
    },
    {
      "cell_type": "code",
      "metadata": {
        "colab": {
          "base_uri": "https://localhost:8080/"
        },
        "id": "HT6XtSR2rMbz",
        "outputId": "aadeba5d-5462-4889-e6bf-aaf943cdf3bf"
      },
      "source": [
        "list_c = list()\r\n",
        "print(list_c)"
      ],
      "execution_count": 31,
      "outputs": [
        {
          "output_type": "stream",
          "text": [
            "[]\n"
          ],
          "name": "stdout"
        }
      ]
    },
    {
      "cell_type": "markdown",
      "metadata": {
        "id": "60N6KxsErQXB"
      },
      "source": [
        "append() เพิ่มสมาชิกใน list"
      ]
    },
    {
      "cell_type": "code",
      "metadata": {
        "colab": {
          "base_uri": "https://localhost:8080/"
        },
        "id": "PKyekNbTrPr7",
        "outputId": "3eb3b4d8-3dd9-4912-f974-4f26ab782171"
      },
      "source": [
        "list_b.append('u') \r\n",
        "print(list_b)   # เพิ่มสมาชิก u เข้าไปใน list จะไปอยู่ลำดับสุดท้าย"
      ],
      "execution_count": 32,
      "outputs": [
        {
          "output_type": "stream",
          "text": [
            "[111, 'c', 'งองมาก', 1092, 'u']\n"
          ],
          "name": "stdout"
        }
      ]
    },
    {
      "cell_type": "markdown",
      "metadata": {
        "id": "tMSv0wAHr5wI"
      },
      "source": [
        "0 คือสามาชิกตัวแรก , -1 คือสมาชิกตัวสุดท้าย"
      ]
    },
    {
      "cell_type": "code",
      "metadata": {
        "colab": {
          "base_uri": "https://localhost:8080/",
          "height": 35
        },
        "id": "1s2bzxcPr_ok",
        "outputId": "0e90b626-6386-4689-f0e2-3033279541dc"
      },
      "source": [
        "list_b[-3]   # ตัวที่อยู่ในวงเล็บหลังจากตัวแปร list เรียกว่า index ใช้สำหรับบอกข้อมูลใน list "
      ],
      "execution_count": 33,
      "outputs": [
        {
          "output_type": "execute_result",
          "data": {
            "application/vnd.google.colaboratory.intrinsic+json": {
              "type": "string"
            },
            "text/plain": [
              "'งองมาก'"
            ]
          },
          "metadata": {
            "tags": []
          },
          "execution_count": 33
        }
      ]
    },
    {
      "cell_type": "markdown",
      "metadata": {
        "id": "yo97NZznZjWj"
      },
      "source": [
        "## String > list of characters"
      ]
    },
    {
      "cell_type": "code",
      "metadata": {
        "colab": {
          "base_uri": "https://localhost:8080/"
        },
        "id": "ZQmHV89XYNPY",
        "outputId": "6290cf5d-b8e7-4048-c2cf-8283913b9aeb"
      },
      "source": [
        "t = 'python is easy'\r\n",
        "print(t)"
      ],
      "execution_count": 34,
      "outputs": [
        {
          "output_type": "stream",
          "text": [
            "python is easy\n"
          ],
          "name": "stdout"
        }
      ]
    },
    {
      "cell_type": "code",
      "metadata": {
        "colab": {
          "base_uri": "https://localhost:8080/",
          "height": 35
        },
        "id": "lYp1zmS2YNR0",
        "outputId": "b975eeed-5b8f-46a4-a039-17ce2892e825"
      },
      "source": [
        "t[1]"
      ],
      "execution_count": 35,
      "outputs": [
        {
          "output_type": "execute_result",
          "data": {
            "application/vnd.google.colaboratory.intrinsic+json": {
              "type": "string"
            },
            "text/plain": [
              "'y'"
            ]
          },
          "metadata": {
            "tags": []
          },
          "execution_count": 35
        }
      ]
    },
    {
      "cell_type": "code",
      "metadata": {
        "colab": {
          "base_uri": "https://localhost:8080/",
          "height": 35
        },
        "id": "Dtj1OlZrYNUV",
        "outputId": "6569990f-f89b-462e-894f-1339d9ed9b90"
      },
      "source": [
        "t[-4]"
      ],
      "execution_count": 36,
      "outputs": [
        {
          "output_type": "execute_result",
          "data": {
            "application/vnd.google.colaboratory.intrinsic+json": {
              "type": "string"
            },
            "text/plain": [
              "'e'"
            ]
          },
          "metadata": {
            "tags": []
          },
          "execution_count": 36
        }
      ]
    },
    {
      "cell_type": "code",
      "metadata": {
        "colab": {
          "base_uri": "https://localhost:8080/",
          "height": 35
        },
        "id": "I99VGp0jYNWq",
        "outputId": "bf098141-c3c6-40b0-92f8-a80bafb883e2"
      },
      "source": [
        "t[6]"
      ],
      "execution_count": 37,
      "outputs": [
        {
          "output_type": "execute_result",
          "data": {
            "application/vnd.google.colaboratory.intrinsic+json": {
              "type": "string"
            },
            "text/plain": [
              "' '"
            ]
          },
          "metadata": {
            "tags": []
          },
          "execution_count": 37
        }
      ]
    },
    {
      "cell_type": "markdown",
      "metadata": {
        "id": "HTEq90Gdipzr"
      },
      "source": [
        "คาบที่ 3 \\ 11 ม.ค. 2021"
      ]
    },
    {
      "cell_type": "code",
      "metadata": {
        "id": "Xou-gZIQaISo",
        "colab": {
          "base_uri": "https://localhost:8080/"
        },
        "outputId": "f000d3ba-756a-4e6b-934b-a8814f84289b"
      },
      "source": [
        "len(t)"
      ],
      "execution_count": 38,
      "outputs": [
        {
          "output_type": "execute_result",
          "data": {
            "text/plain": [
              "14"
            ]
          },
          "metadata": {
            "tags": []
          },
          "execution_count": 38
        }
      ]
    },
    {
      "cell_type": "code",
      "metadata": {
        "id": "c_prAZBIizyh",
        "colab": {
          "base_uri": "https://localhost:8080/"
        },
        "outputId": "e8427a87-bdd2-4929-c459-7c2373d54919"
      },
      "source": [
        "len(list_b) # len คือคำสั่งตรวจสอบความยาวของ list (จำนวนสมาชิก)"
      ],
      "execution_count": 39,
      "outputs": [
        {
          "output_type": "execute_result",
          "data": {
            "text/plain": [
              "5"
            ]
          },
          "metadata": {
            "tags": []
          },
          "execution_count": 39
        }
      ]
    },
    {
      "cell_type": "markdown",
      "metadata": {
        "id": "-NONLScZlbqM"
      },
      "source": [
        "#ตัวที่อยู่ข้างใน [ ] เราเรียกว่า index (ตัวชี้)"
      ]
    },
    {
      "cell_type": "markdown",
      "metadata": {
        "id": "Ufd5wxFvl20o"
      },
      "source": [
        "### List slicing สามารถทำได้โดยใช้ colon : [a:b] => [a,b)"
      ]
    },
    {
      "cell_type": "code",
      "metadata": {
        "id": "YXf8BgIfi_n8",
        "colab": {
          "base_uri": "https://localhost:8080/"
        },
        "outputId": "1136bb75-db42-4c58-e3a8-790ac3b5f826"
      },
      "source": [
        "print(t)\r\n",
        "print(t[7:9])  # เอาแค่ 7,8 แต่ 9 ไม่เอา\r\n",
        "print(len(t[7:9]))  "
      ],
      "execution_count": 40,
      "outputs": [
        {
          "output_type": "stream",
          "text": [
            "python is easy\n",
            "is\n",
            "2\n"
          ],
          "name": "stdout"
        }
      ]
    },
    {
      "cell_type": "code",
      "metadata": {
        "id": "xvD2uV7Gnppx",
        "colab": {
          "base_uri": "https://localhost:8080/",
          "height": 35
        },
        "outputId": "59ce03e8-15ff-4d83-c83c-da30a9d38c7d"
      },
      "source": [
        "t[0:14:2]  # เลข 2 ตัวสุดท้าย หมายถึง จะกระโดดเลือกตัวที่ 2 จากตัวแรก ไปเรื่อยๆ"
      ],
      "execution_count": 41,
      "outputs": [
        {
          "output_type": "execute_result",
          "data": {
            "application/vnd.google.colaboratory.intrinsic+json": {
              "type": "string"
            },
            "text/plain": [
              "'pto ses'"
            ]
          },
          "metadata": {
            "tags": []
          },
          "execution_count": 41
        }
      ]
    },
    {
      "cell_type": "code",
      "metadata": {
        "id": "q23xJs4IoQ8D"
      },
      "source": [
        "z = [1,2,3,4,5,6,7,8,9,10]"
      ],
      "execution_count": 42,
      "outputs": []
    },
    {
      "cell_type": "markdown",
      "metadata": {
        "id": "He0S1FvRoYAz"
      },
      "source": [
        "### QUIZ\r\n",
        "ให้ใช้  list slicing เลือกมาเฉพาะเลขคู่"
      ]
    },
    {
      "cell_type": "code",
      "metadata": {
        "id": "5i3nZ6Xeokff",
        "colab": {
          "base_uri": "https://localhost:8080/"
        },
        "outputId": "f25aba39-908b-4422-d652-969d61b0b313"
      },
      "source": [
        "print(z[1:10:2])  ## ตัวแรก : ให้เริ่มตัวที่ 1 , ตัวที่สอง : คือถึงตัวที่สิบ , "
      ],
      "execution_count": 43,
      "outputs": [
        {
          "output_type": "stream",
          "text": [
            "[2, 4, 6, 8, 10]\n"
          ],
          "name": "stdout"
        }
      ]
    },
    {
      "cell_type": "markdown",
      "metadata": {
        "id": "emspTk_em1z1"
      },
      "source": [
        "ถ้าเว้นว่างหน้า : เริ่มตั้งแต่ตัวแรก (0)\r\n",
        "\r\n",
        "ถ้าเว้นว่างหลัง : ไปจนถึงตัวสุดท้าย (len(list))"
      ]
    },
    {
      "cell_type": "code",
      "metadata": {
        "id": "orrPT3bLi_k5",
        "colab": {
          "base_uri": "https://localhost:8080/"
        },
        "outputId": "7d2ff9e1-106c-42d0-e02f-c0a69821e774"
      },
      "source": [
        "print(t)\r\n",
        "print(t[:6]) # เอาตั้งแต่ตัวที่ 0 ถึงตัวที่ 6\r\n",
        "print(t[10:]) # เอาตั้งแต่ตัวที่ 10 จนถึงตัวสุดท้าย\r\n",
        "print(t[-4:]) # นับจากตัวด้านหลังมา 4 ตัว\r\n",
        "print(t[:])"
      ],
      "execution_count": 44,
      "outputs": [
        {
          "output_type": "stream",
          "text": [
            "python is easy\n",
            "python\n",
            "easy\n",
            "easy\n",
            "python is easy\n"
          ],
          "name": "stdout"
        }
      ]
    },
    {
      "cell_type": "code",
      "metadata": {
        "id": "64JYc_Hxi_Kt",
        "colab": {
          "base_uri": "https://localhost:8080/"
        },
        "outputId": "d669255f-b79d-4aee-fbdc-32b1384eb9e5"
      },
      "source": [
        "print(z[::2])  # เริ่มตั้งแต่ ตัวที่ 0 ไปจนถึงตัวที่ 10 แล้วเริ่มเอาตัวที่สองไปเรื่อยๆจาก 0,'1',2,'3',4,'5',..."
      ],
      "execution_count": 45,
      "outputs": [
        {
          "output_type": "stream",
          "text": [
            "[1, 3, 5, 7, 9]\n"
          ],
          "name": "stdout"
        }
      ]
    },
    {
      "cell_type": "markdown",
      "metadata": {
        "id": "kmgu2l5er8Lc"
      },
      "source": [
        "### เราสามารถเอา list มาต่อกันได้ด้วย +"
      ]
    },
    {
      "cell_type": "code",
      "metadata": {
        "id": "FxI6NK1_i_Hg",
        "colab": {
          "base_uri": "https://localhost:8080/",
          "height": 35
        },
        "outputId": "23548aa0-f044-44c6-824b-853bf53c5097"
      },
      "source": [
        "t + \"??\""
      ],
      "execution_count": 46,
      "outputs": [
        {
          "output_type": "execute_result",
          "data": {
            "application/vnd.google.colaboratory.intrinsic+json": {
              "type": "string"
            },
            "text/plain": [
              "'python is easy??'"
            ]
          },
          "metadata": {
            "tags": []
          },
          "execution_count": 46
        }
      ]
    },
    {
      "cell_type": "code",
      "metadata": {
        "id": "hcpWxmBRi_ET",
        "colab": {
          "base_uri": "https://localhost:8080/",
          "height": 163
        },
        "outputId": "d150dbc2-16a0-4601-bde9-ebfb264f668e"
      },
      "source": [
        "t + list_b  # ไม่สามารถเอา list ปกติมาต่อกันกับ string ได้"
      ],
      "execution_count": 47,
      "outputs": [
        {
          "output_type": "error",
          "ename": "TypeError",
          "evalue": "ignored",
          "traceback": [
            "\u001b[0;31m---------------------------------------------------------------------------\u001b[0m",
            "\u001b[0;31mTypeError\u001b[0m                                 Traceback (most recent call last)",
            "\u001b[0;32m<ipython-input-47-7ea9139603c6>\u001b[0m in \u001b[0;36m<module>\u001b[0;34m()\u001b[0m\n\u001b[0;32m----> 1\u001b[0;31m \u001b[0mt\u001b[0m \u001b[0;34m+\u001b[0m \u001b[0mlist_b\u001b[0m  \u001b[0;31m# ไม่สามารถเอา list ปกติมาต่อกันกับ string ได้\u001b[0m\u001b[0;34m\u001b[0m\u001b[0;34m\u001b[0m\u001b[0m\n\u001b[0m",
            "\u001b[0;31mTypeError\u001b[0m: must be str, not list"
          ]
        }
      ]
    },
    {
      "cell_type": "code",
      "metadata": {
        "id": "g2DvYbpTi_B4",
        "colab": {
          "base_uri": "https://localhost:8080/"
        },
        "outputId": "7eaf8861-8c80-48f8-ec15-fbe4dd4de49b"
      },
      "source": [
        "print(list_a)\r\n",
        "list_b = [111,'c','งองมาก',aaa]\r\n",
        "print(list_b)\r\n",
        "print(list_b + list_a)  ## บวกคือ เอาสมาชิกมารวมกัน\r\n"
      ],
      "execution_count": 49,
      "outputs": [
        {
          "output_type": "stream",
          "text": [
            "[]\n",
            "[111, 'c', 'งองมาก', 1092]\n",
            "[111, 'c', 'งองมาก', 1092]\n"
          ],
          "name": "stdout"
        }
      ]
    },
    {
      "cell_type": "code",
      "metadata": {
        "id": "hMkcp5Boi--T",
        "colab": {
          "base_uri": "https://localhost:8080/"
        },
        "outputId": "d0eeb09b-bb11-4319-b495-d1f79ad292dd"
      },
      "source": [
        "list_b.append(list_a)\r\n",
        "print(list_b)"
      ],
      "execution_count": 50,
      "outputs": [
        {
          "output_type": "stream",
          "text": [
            "[111, 'c', 'งองมาก', 1092, []]\n"
          ],
          "name": "stdout"
        }
      ]
    },
    {
      "cell_type": "markdown",
      "metadata": {
        "id": "0S-DyChguHJY"
      },
      "source": [
        "## การแบ่ง string ตามสัญลักษณ์ที่กำหนด --> split string"
      ]
    },
    {
      "cell_type": "code",
      "metadata": {
        "id": "jafHK0I1i-7X",
        "colab": {
          "base_uri": "https://localhost:8080/",
          "height": 35
        },
        "outputId": "02616da5-3f93-4c65-86c0-03ff43fd19ec"
      },
      "source": [
        "t"
      ],
      "execution_count": 51,
      "outputs": [
        {
          "output_type": "execute_result",
          "data": {
            "application/vnd.google.colaboratory.intrinsic+json": {
              "type": "string"
            },
            "text/plain": [
              "'python is easy'"
            ]
          },
          "metadata": {
            "tags": []
          },
          "execution_count": 51
        }
      ]
    },
    {
      "cell_type": "code",
      "metadata": {
        "id": "JLl2F2wEuG3A",
        "colab": {
          "base_uri": "https://localhost:8080/"
        },
        "outputId": "39a0864c-1566-4b75-9daf-c82d294c900e"
      },
      "source": [
        "t.split(' ') # การแบ่ง string ด้วยช่องว่าง ' ' "
      ],
      "execution_count": 52,
      "outputs": [
        {
          "output_type": "execute_result",
          "data": {
            "text/plain": [
              "['python', 'is', 'easy']"
            ]
          },
          "metadata": {
            "tags": []
          },
          "execution_count": 52
        }
      ]
    },
    {
      "cell_type": "code",
      "metadata": {
        "id": "KSflUqcYuGx7"
      },
      "source": [
        "time = '12:30:15'"
      ],
      "execution_count": 53,
      "outputs": []
    },
    {
      "cell_type": "code",
      "metadata": {
        "id": "oraCkSORuGvE",
        "colab": {
          "base_uri": "https://localhost:8080/"
        },
        "outputId": "daf46b9e-5d66-4a0e-caf1-3c6d37893e2d"
      },
      "source": [
        "time.split(':') # แบ่งด้วย ':' "
      ],
      "execution_count": 54,
      "outputs": [
        {
          "output_type": "execute_result",
          "data": {
            "text/plain": [
              "['12', '30', '15']"
            ]
          },
          "metadata": {
            "tags": []
          },
          "execution_count": 54
        }
      ]
    },
    {
      "cell_type": "code",
      "metadata": {
        "id": "joidVtV4vVol",
        "colab": {
          "base_uri": "https://localhost:8080/"
        },
        "outputId": "41d85d6e-7d8e-45fa-c089-aa0ecc1e845d"
      },
      "source": [
        "t_sp = t.split(' ')\r\n",
        "print(t_sp)"
      ],
      "execution_count": 55,
      "outputs": [
        {
          "output_type": "stream",
          "text": [
            "['python', 'is', 'easy']\n"
          ],
          "name": "stdout"
        }
      ]
    },
    {
      "cell_type": "code",
      "metadata": {
        "id": "WcrMq7v-uGo6",
        "colab": {
          "base_uri": "https://localhost:8080/"
        },
        "outputId": "7f06d3df-8cef-4097-a02d-8e004493f5ce"
      },
      "source": [
        "## วิธีการรวมกลับ\r\n",
        "print(':'.join(t_sp))"
      ],
      "execution_count": 56,
      "outputs": [
        {
          "output_type": "stream",
          "text": [
            "python:is:easy\n"
          ],
          "name": "stdout"
        }
      ]
    },
    {
      "cell_type": "markdown",
      "metadata": {
        "id": "FIqP1uQMvkFM"
      },
      "source": [
        "## HW คำนวณเวลาเป็นวินาทีของเวลาต่อไปนี้ โดยใช้คำสั่ง split() ช่วย (print ออกมาให้สวยงาม)\r\n",
        "\r\n",
        "12:30:15\r\n",
        "\r\n",
        "13:41:07\r\n",
        "\r\n",
        "12:53:15\r\n",
        "\r\n",
        "00:59:25\r\n",
        "\r\n",
        "11:11:11\r\n",
        "\r\n",
        "16:06:09\r\n",
        "\r\n",
        "21:12:30\r\n",
        "\r\n",
        "10:06:15\r\n",
        "\r\n",
        "ตัวอย่าง >>> 00:01:10 = 70 วินาที \r\n",
        "\r\n",
        "ตัวอย่าง >>> 01:00:01 = 3601 วินาที\r\n"
      ]
    },
    {
      "cell_type": "code",
      "metadata": {
        "id": "zVfWiMOvuGmI",
        "colab": {
          "base_uri": "https://localhost:8080/"
        },
        "outputId": "08e87c31-6800-4070-e51c-6ee80f4f649c"
      },
      "source": [
        "q1 = '12:30:15'\r\n",
        "#code .....\r\n",
        "#code ...\r\n",
        "\r\n",
        "#code ...\r\n",
        "print()"
      ],
      "execution_count": 57,
      "outputs": [
        {
          "output_type": "stream",
          "text": [
            "\n"
          ],
          "name": "stdout"
        }
      ]
    },
    {
      "cell_type": "code",
      "metadata": {
        "id": "l6yA9p0QuGg_",
        "outputId": "bacbfdc0-2906-49ee-cad3-47f202434485",
        "colab": {
          "base_uri": "https://localhost:8080/"
        }
      },
      "source": [
        "q1 = '12:30:15'\r\n",
        "q1.split(':')\r\n",
        "list_q1 = [12,30,15]\r\n",
        "h = list_q1[0]*60*60  # 12 ชั่วโมง มี 43200 วินาที\r\n",
        "m = list_q1[1]*60  # 30 นาที มี 1800 วินาที\r\n",
        "s = list_q1[2]  # มี 15 วินาที\r\n",
        "Ans = h+m+s\r\n",
        "print(Ans,\"วินาที\")"
      ],
      "execution_count": 65,
      "outputs": [
        {
          "output_type": "stream",
          "text": [
            "45015 วินาที\n"
          ],
          "name": "stdout"
        }
      ]
    },
    {
      "cell_type": "code",
      "metadata": {
        "id": "xwUZXBHhuGeD",
        "outputId": "7c5e3475-288f-4415-ac71-8117b3f048e1",
        "colab": {
          "base_uri": "https://localhost:8080/"
        }
      },
      "source": [
        "q2 ='13:41:07'\r\n",
        "q2.split(':')\r\n",
        "list_q2= [13,41,7]\r\n",
        "h=list_q2[0]*60*60    \r\n",
        "m=list_q2[1]*60   \r\n",
        "s=list_q2[2]  \r\n",
        "Ans = h+m+s\r\n",
        "print(Ans,\"วินาที\")"
      ],
      "execution_count": 66,
      "outputs": [
        {
          "output_type": "stream",
          "text": [
            "49267 วินาที\n"
          ],
          "name": "stdout"
        }
      ]
    },
    {
      "cell_type": "code",
      "metadata": {
        "id": "FvsJ3zVsi-47",
        "outputId": "8a111313-ae1b-4f10-d775-0d6b22ffeaad",
        "colab": {
          "base_uri": "https://localhost:8080/"
        }
      },
      "source": [
        "q3 ='12:53:15'\r\n",
        "q3.split(':')\r\n",
        "list_q3= [12,53,15]\r\n",
        "h=list_q3[0]*60*60    \r\n",
        "m=list_q3[1]*60   \r\n",
        "s=list_q3[2]   \r\n",
        "Ans = h+m+s\r\n",
        "print(Ans,\"วินาที\")"
      ],
      "execution_count": 67,
      "outputs": [
        {
          "output_type": "stream",
          "text": [
            "46395 วินาที\n"
          ],
          "name": "stdout"
        }
      ]
    },
    {
      "cell_type": "code",
      "metadata": {
        "id": "TtljqZg49Oc8",
        "outputId": "17672008-7613-4dc3-af74-e413bad2eb22",
        "colab": {
          "base_uri": "https://localhost:8080/"
        }
      },
      "source": [
        "q4 ='00:59:25'\r\n",
        "q4.split(':')\r\n",
        "list_q4= [00,59,25]\r\n",
        "h=list_q4[0]*60*60    \r\n",
        "m=list_q4[1]*60   \r\n",
        "s=list_q4[2]   \r\n",
        "Ans = h+m+s\r\n",
        "print(Ans,\"วินาที\")"
      ],
      "execution_count": 68,
      "outputs": [
        {
          "output_type": "stream",
          "text": [
            "3565 วินาที\n"
          ],
          "name": "stdout"
        }
      ]
    },
    {
      "cell_type": "code",
      "metadata": {
        "id": "v6X2srj_9Ogj",
        "outputId": "ffa7f7c0-edd6-49f3-b7b5-3d1bd65b20cb",
        "colab": {
          "base_uri": "https://localhost:8080/"
        }
      },
      "source": [
        "q5 ='11:11:11'\r\n",
        "q5.split(':')\r\n",
        "list_q5= [11,11,11]\r\n",
        "h=list_q5[0]*60*60    \r\n",
        "m=list_q5[1]*60   \r\n",
        "s=list_q5[2]   \r\n",
        "Ans = h+m+s\r\n",
        "print(Ans,\"วินาที\")"
      ],
      "execution_count": 69,
      "outputs": [
        {
          "output_type": "stream",
          "text": [
            "40271 วินาที\n"
          ],
          "name": "stdout"
        }
      ]
    },
    {
      "cell_type": "code",
      "metadata": {
        "id": "KgHIqlnv9OjX",
        "outputId": "e1fc7739-54dc-431b-83dd-81c4b709bcdb",
        "colab": {
          "base_uri": "https://localhost:8080/"
        }
      },
      "source": [
        "q6 ='16:06:09'\r\n",
        "q6.split(':')\r\n",
        "list_q6= [16,6,9]\r\n",
        "h=list_q6[0]*60*60    \r\n",
        "m=list_q6[1]*60   \r\n",
        "s=list_q6[2]   \r\n",
        "Ans = h+m+s\r\n",
        "print(Ans,\"วินาที\")"
      ],
      "execution_count": 70,
      "outputs": [
        {
          "output_type": "stream",
          "text": [
            "57969 วินาที\n"
          ],
          "name": "stdout"
        }
      ]
    },
    {
      "cell_type": "code",
      "metadata": {
        "id": "Msi0GhLo9Olz"
      },
      "source": [
        "q7 ='21:12:30'\r\n",
        "q7.split(':')\r\n",
        "list_q7= [21,12,30]\r\n",
        "h=list_q7[0]*60*60    \r\n",
        "m=list_q7[1]*60   \r\n",
        "s=list_q7[2]   \r\n",
        "Ans_q7 = h+m+s\r\n",
        "print(Ans_q7)"
      ],
      "execution_count": null,
      "outputs": []
    },
    {
      "cell_type": "code",
      "metadata": {
        "id": "KZOL1u129OoH",
        "outputId": "cb114b76-e650-4b60-89a5-815cc7b11b8c",
        "colab": {
          "base_uri": "https://localhost:8080/"
        }
      },
      "source": [
        "q8 ='10:06:15'\r\n",
        "q8.split(':')\r\n",
        "list_q8= [10,6,15]\r\n",
        "h=list_q8[0]*60*60    \r\n",
        "m=list_q8[1]*60   \r\n",
        "s=list_q8[2]   \r\n",
        "Ans = h+m+s\r\n",
        "print(Ans,\"วินาที\")"
      ],
      "execution_count": 71,
      "outputs": [
        {
          "output_type": "stream",
          "text": [
            "36375 วินาที\n"
          ],
          "name": "stdout"
        }
      ]
    },
    {
      "cell_type": "code",
      "metadata": {
        "id": "-1Ip-KmG9O4J"
      },
      "source": [
        ""
      ],
      "execution_count": null,
      "outputs": []
    },
    {
      "cell_type": "code",
      "metadata": {
        "id": "I7U_j4g39O7j"
      },
      "source": [
        ""
      ],
      "execution_count": null,
      "outputs": []
    },
    {
      "cell_type": "code",
      "metadata": {
        "id": "kvRVBste9O_f"
      },
      "source": [
        ""
      ],
      "execution_count": null,
      "outputs": []
    },
    {
      "cell_type": "code",
      "metadata": {
        "id": "MrUgpw0x9PDj"
      },
      "source": [
        ""
      ],
      "execution_count": null,
      "outputs": []
    }
  ]
}