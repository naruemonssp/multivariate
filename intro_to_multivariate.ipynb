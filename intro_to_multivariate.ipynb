{
  "nbformat": 4,
  "nbformat_minor": 0,
  "metadata": {
    "colab": {
      "name": "intro to multivariate.ipynb",
      "provenance": [],
      "authorship_tag": "ABX9TyMR8Ypz10JX+LQ7Dk5xr3TE",
      "include_colab_link": true
    },
    "kernelspec": {
      "name": "python3",
      "display_name": "Python 3"
    }
  },
  "cells": [
    {
      "cell_type": "markdown",
      "metadata": {
        "id": "view-in-github",
        "colab_type": "text"
      },
      "source": [
        "<a href=\"https://colab.research.google.com/github/naruemonssp/multivariate/blob/main/intro_to_multivariate.ipynb\" target=\"_parent\"><img src=\"https://colab.research.google.com/assets/colab-badge.svg\" alt=\"Open In Colab\"/></a>"
      ]
    },
    {
      "cell_type": "markdown",
      "metadata": {
        "id": "ko2NZl1oiIrq"
      },
      "source": [
        "นางสาวนฤมล  ไสยโสภณ  ID 623021050-6"
      ]
    },
    {
      "cell_type": "code",
      "metadata": {
        "colab": {
          "base_uri": "https://localhost:8080/"
        },
        "id": "dald4UNMiTQo",
        "outputId": "52280904-ef73-452e-88ec-4301a6b16515"
      },
      "source": [
        "print('นฤมล') #single quote(')ใช้ล้อมรอบข้อความ"
      ],
      "execution_count": 2,
      "outputs": [
        {
          "output_type": "stream",
          "text": [
            "นฤมล\n"
          ],
          "name": "stdout"
        }
      ]
    }
  ]
}